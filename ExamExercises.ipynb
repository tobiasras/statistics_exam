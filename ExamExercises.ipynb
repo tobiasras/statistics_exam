{
 "cells": [
  {
   "metadata": {
    "collapsed": true,
    "ExecuteTime": {
     "end_time": "2024-12-10T12:08:43.983906Z",
     "start_time": "2024-12-10T12:08:43.266376Z"
    }
   },
   "cell_type": "code",
   "source": [
    "from os import error\n",
    "\n",
    "import numpy as np\n",
    "import matplotlib.pyplot as plt\n",
    "import pandas as pd\n",
    "import scipy.stats as stats\n",
    "import statsmodels.formula.api as smf\n",
    "import statsmodels.api as sm\n"
   ],
   "id": "initial_id",
   "outputs": [],
   "execution_count": 2
  },
  {
   "metadata": {},
   "cell_type": "markdown",
   "source": "# exam set June 2024",
   "id": "ccee3f8ac3289a38"
  },
  {
   "metadata": {},
   "cell_type": "markdown",
   "source": "### poisson distribution",
   "id": "8cc479e3d637fc13"
  },
  {
   "metadata": {},
   "cell_type": "code",
   "source": [
    "#task 1\n",
    "lambda1 = 10 #every hour\n",
    "lambda2 = 15 #every hour\n",
    "\n",
    "lambda1New = lambda1/4\n",
    "lambda2New = lambda2/6\n",
    "\n",
    "print(stats.poisson.pmf(10, lambda1New))\n",
    "print(lambda1New/lambda2New)"
   ],
   "id": "1b96f16be49f969d",
   "outputs": [],
   "execution_count": null
  },
  {
   "metadata": {},
   "cell_type": "code",
   "source": [
    "lambda2New = lambda2/30\n",
    "print(1-stats.poisson.cdf(2, lambda2New))"
   ],
   "id": "19cfb58a8da5a00e",
   "outputs": [],
   "execution_count": null
  },
  {
   "metadata": {},
   "cell_type": "markdown",
   "source": "",
   "id": "45bb34ecc0734997"
  },
  {
   "metadata": {},
   "cell_type": "markdown",
   "source": "### linear regression and conf interval on the model",
   "id": "d100f44ca4d9f84e"
  },
  {
   "metadata": {},
   "cell_type": "code",
   "source": [
    "#task 3\n",
    "n = 40 # normally distributed\n",
    "airMean = 34.66\n",
    "airStd = 10.12\n"
   ],
   "id": "eb3f8fe27562d77",
   "outputs": [],
   "execution_count": null
  },
  {
   "metadata": {},
   "cell_type": "code",
   "source": [
    "\n",
    "# Data\n",
    "batch_sizes = np.array([50, 100, 150, 200, 250, 300, 350, 400, 450, 500])\n",
    "\n",
    "# data to be predicted\n",
    "costs = np.array([2.33, 4.21, 6.01, 7.51, 8.46, 8.93, 9.45, 10.70, 10.55, 10.74])\n",
    "\n",
    "# Fit linear regression model\n",
    "X = sm.add_constant(batch_sizes)  # Add intercept\n",
    "model = sm.OLS(costs, X).fit()\n",
    "\n",
    "# Extract R-squared\n",
    "# r_squared = model.rsquared   -- if required or simply get it through summary\n",
    "\n",
    "print(model.summary(slim=True))\n",
    "\n"
   ],
   "id": "f38db3209389a225",
   "outputs": [],
   "execution_count": null
  },
  {
   "metadata": {},
   "cell_type": "code",
   "source": [
    "# this gives a confidence interval for all the variables in the model in the order of the model seen above \n",
    "# so the first confidence interval is for beta_0 or const\n",
    "# and the second is for beta_1 or x1 \n",
    "conf_interval_99 = model.conf_int(alpha=0.01)\n",
    "print(conf_interval_99) "
   ],
   "id": "bd115461e727dde4",
   "outputs": [],
   "execution_count": null
  },
  {
   "metadata": {},
   "cell_type": "markdown",
   "source": "",
   "id": "ec4366b6ce845e75"
  },
  {
   "metadata": {},
   "cell_type": "code",
   "source": [
    "#V.1\n",
    "print(24998/46551)"
   ],
   "id": "752598c63c73214d",
   "outputs": [],
   "execution_count": null
  },
  {
   "metadata": {},
   "cell_type": "code",
   "source": [
    "# V.3 (12)\n",
    "#expected count given that the distribution for both male and female is the same across all age groups \n",
    "# the formula is (row total * column total) / grand total\n",
    "print((28176*24998)/46551)"
   ],
   "id": "d3aae090275b0ca3",
   "outputs": [],
   "execution_count": null
  },
  {
   "metadata": {},
   "cell_type": "code",
   "source": [
    "# V.4 (13)\n",
    "alpha = 0.05\n",
    "n=28176\n",
    "proportion = 14048/n\n",
    "standardError = np.sqrt((proportion*(1-proportion))/n)\n",
    "zStat = stats.norm.ppf(1-alpha/2)\n",
    "\n",
    "errorMargin = standardError * zStat\n",
    "print(errorMargin) \n",
    "upMarg = proportion + errorMargin\n",
    "lowMarg = proportion - errorMargin\n",
    "print(f\"conf int is low {lowMarg} and up {upMarg}\")\n",
    " "
   ],
   "id": "ed3d3f689ddc89b",
   "outputs": [],
   "execution_count": null
  },
  {
   "metadata": {},
   "cell_type": "markdown",
   "source": "### binomial distribution",
   "id": "ef6ef7f93318b657"
  },
  {
   "metadata": {},
   "cell_type": "code",
   "source": [
    "#v.5 (14)\n",
    "# remember it is 100 or more so we need to find  area of 99 or less not 100 or less\n",
    "print(1-stats.binom.cdf(99, 190, 0.45))"
   ],
   "id": "327c31776567bb39",
   "outputs": [],
   "execution_count": null
  },
  {
   "metadata": {},
   "cell_type": "markdown",
   "source": "### conf interval without quick function",
   "id": "1ecc96490c39279d"
  },
  {
   "metadata": {},
   "cell_type": "code",
   "source": [
    "#v.III (18)\n",
    "n1, n2 = 25000, 15000 # normally distributed\n",
    "mean1, mean2 = 1250, 1300\n",
    "std1, std2 = 54.24, 28.54 \n",
    "alpha = 0.05\n",
    "\n",
    "meanDiff = mean1-mean2\n",
    "\n",
    "SE = np.sqrt((std1**2 / n1) + (std2**2 / n2))\n",
    "\n",
    "\n",
    "# stError = np.sqrt((proportion*(1-proportion)/n)   # this is for a proportion\n",
    "critValue = stats.norm.ppf((1-alpha/2)) #  \n",
    "# critValue = stats.norm.ppf((1-alpha/2),fDegrees) # for a big sample 29<n\n",
    "marginError = critValue * SE\n",
    "\n",
    "upBound = meanDiff+marginError\n",
    "lowBound = meanDiff-marginError\n",
    "\n",
    "print(f\"Mean Difference: {meanDiff}\")\n",
    "print(f\"Standard Error of the Difference: {SE:.4f}\")\n",
    "print(f\"Critical Z-Value: {critValue:.4f}\")\n",
    "print(f\"Margin of Error: {marginError:.4f}\")\n",
    "print(f\"95% Confidence Interval: ({lowBound:.2f}, {upBound:.2f})\")\n"
   ],
   "id": "db9cbcf18d721d4",
   "outputs": [],
   "execution_count": null
  },
  {
   "metadata": {},
   "cell_type": "markdown",
   "source": "### two sample t-test and hypothesis test where h0 is not 0 (and if it is)",
   "id": "a40fbd4420f765e4"
  },
  {
   "metadata": {},
   "cell_type": "code",
   "source": [
    "#VIII.2 (19)\n",
    "nullDiff = -50\n",
    "\n",
    "print((meanDiff-nullDiff)/SE)"
   ],
   "id": "d13807c634433694",
   "outputs": [],
   "execution_count": null
  },
  {
   "metadata": {},
   "cell_type": "code",
   "source": [
    "#VIII.3 (20)\n",
    "# use when mean of two groups are dependant \n",
    "# if the hypothesis is not simply that the mean difference is 0 \n",
    "# in the example the hypothesis is h_0 : mean_current - mean_new = 0.05\n",
    "currentModel = np.array([7.964, 7.813, 8.299, 8.219, 9.832, 9.829, 9.842, 9.498, 7.023, 8.408])\n",
    "newModel = np.array([7.932, 7.762 , 8.243, 8.174, 9.782, 9.775, 9.794, 9.445, 6.942, 8.347])\n",
    "null_difference = 0.05\n",
    "differences = currentModel - newModel\n",
    "n = len(differences)\n",
    "meanDiff = np.mean(differences)\n",
    "stDeviation = np.std(differences, ddof=1)\n",
    "standardErrorDiff = stDeviation/np.sqrt(n)\n",
    "\n",
    "tStat = (meanDiff - null_difference) / standardErrorDiff\n",
    "\n",
    "# Step 4: Compute the p-value\n",
    "pValueDiff = 2 * (1 - stats.t.cdf(abs(tStat), df=n-1))\n",
    "print(f\"tStat {tStat} pVal {pValueDiff} meandiff {meanDiff} standardErr {standardErrorDiff}\")\n",
    "\n",
    "# OBS!!!! t-statistic and p-value directly if the hypthesis is h_0 : mean_current - mean_new = 0\n",
    "#t_stat, p_value = stats.ttest_rel(currentModel, newModel)\n",
    "#print(t_stat, p_value)"
   ],
   "id": "e78a537072e07277",
   "outputs": [],
   "execution_count": null
  },
  {
   "metadata": {},
   "cell_type": "markdown",
   "source": "### two way anova",
   "id": "95f652087654a484"
  },
  {
   "metadata": {
    "ExecuteTime": {
     "end_time": "2024-12-10T16:33:08.862898Z",
     "start_time": "2024-12-10T16:33:08.834525Z"
    }
   },
   "cell_type": "code",
   "source": [
    "#IX.2 (22)\n",
    "\n",
    "pValSupply = stats.f.sf(3.8696, 3,12)\n",
    "pValDay = stats.f.sf(4.6362, 4, 12)\n",
    "print(pValSupply, pValDay)\n",
    "\n",
    "\n",
    "## the two way anova table itself (not nescessary for the task)\n",
    "\n",
    "# Step 1: Create the data\n",
    "data = pd.DataFrame({\n",
    "    \"Strength\": [92.0, 131.0, 74.1, 90.4,  # Day 1\n",
    "                 111.6, 103.5, 52.8, 95.2,  # Day 2\n",
    "                 98.4, 100.0, 82.5, 87.6,  # Day 3\n",
    "                 87.7, 84.7, 94.7, 63.2,  # Day 4\n",
    "                 134.9, 134.5, 107.3, 119.5],  # Day 5\n",
    "    \"Supplier\": [\"A\", \"B\", \"C\", \"D\"] * 5,\n",
    "    \"Day\": [\"Day 1\"] * 4 + [\"Day 2\"] * 4 + [\"Day 3\"] * 4 + [\"Day 4\"] * 4 + [\"Day 5\"] * 4\n",
    "})\n",
    "\n",
    "# Step 2: Fit the two-way ANOVA model\n",
    "model = smf.ols(\"Strength ~ C(Supplier) + C(Day)\", data=data).fit()\n",
    "\n",
    "# Step 3: Perform the ANOVA\n",
    "anova_table = sm.stats.anova_lm(model, typ=2)  # typ=2 for main effects only\n",
    "\n",
    "# Display the ANOVA table\n",
    "print(anova_table)"
   ],
   "id": "7b50e675e687b5b8",
   "outputs": [
    {
     "name": "stdout",
     "output_type": "stream",
     "text": [
      "0.03793398766186806 0.01707042592892298\n",
      "               sum_sq    df         F    PR(>F)\n",
      "C(Supplier)  2508.756   3.0  3.869560  0.037935\n",
      "C(Day)       4007.692   4.0  4.636164  0.017071\n",
      "Residual     2593.324  12.0       NaN       NaN\n"
     ]
    }
   ],
   "execution_count": 15
  },
  {
   "metadata": {},
   "cell_type": "code",
   "source": [
    "#X.1 & .2\n",
    "#in both of these the task states that there i no distributional assumption which invalidates the t-test portion of both as a t-test assumes a normal distribution and the solution is therefore to see whether the null hypothesis is true based on the given 2.5% and 97.5% quantiles. if the values (in the first task a return of 20) (second task a difference of 0) are within the bounds of their respective values of said quantiles then the null hypothesis is \"accepted\" (or at least not rejected)"
   ],
   "id": "95cee5a124fdc047",
   "outputs": [],
   "execution_count": null
  },
  {
   "metadata": {},
   "cell_type": "markdown",
   "source": [
    "# 2023 march\n",
    "### conf int for mean and proportion"
   ],
   "id": "5be16eb9e962c25"
  },
  {
   "metadata": {},
   "cell_type": "code",
   "source": [
    "nice= stats.norm.ppf(0.85)\n",
    "print(55+nice*19)"
   ],
   "id": "90b569e1764914fb",
   "outputs": [],
   "execution_count": null
  },
  {
   "metadata": {},
   "cell_type": "code",
   "source": [
    "data = 8500, 10300, 6800, 10600, 4900, 6200, 10800, 5700, 5100, 9000\n",
    "n= len(data)\n",
    "std = np.std(data)\n",
    "mean = np.mean(data)\n",
    "fDegrees = n-1\n",
    "alpha = 0.01\n",
    "\n",
    "stError = std/np.sqrt(n) # 1.6 this is for a mean\n",
    "# stError = np.sqrt((proportion*(1-proportion)/n)   # this is for a proportion\n",
    "critValue = stats.t.ppf((1-alpha/2),fDegrees) #  for a small smaple 30>n\n",
    "# critValue = stats.norm.ppf((1-alpha/2),fDegrees) # for a big sample 29<n\n",
    "marginError = critValue * stError\n",
    "\n",
    "upBound = mean+marginError\n",
    "lowBound = mean-marginError\n",
    "\n",
    "print(f\"The confidence interval is {lowBound} to {upBound}\")\n",
    "\n"
   ],
   "id": "daca5b16f62c7dd0",
   "outputs": [],
   "execution_count": null
  },
  {
   "metadata": {},
   "cell_type": "markdown",
   "source": "### 99% confidence interval",
   "id": "c94283fca2f92064"
  },
  {
   "metadata": {
    "ExecuteTime": {
     "end_time": "2024-12-10T13:07:38.081275Z",
     "start_time": "2024-12-10T13:07:38.074787Z"
    }
   },
   "cell_type": "code",
   "source": [
    "# VI.1\n",
    "from scipy.stats import ttest_1samp\n",
    "\n",
    "data = np.array([8500, 10300, 6800, 10600, 4900, 6200, 10800, 5700, 5100, 9000])\n",
    "sample_mean = 17  # Example: mean duration\n",
    "sample_std = 4.5    # Example: standard deviation\n",
    "sample_size = 40   # Example: sample size\n",
    "confidence_level = 0.99\n",
    "\n",
    "# Calculate Z-score for 99% confidence\n",
    "z_score = stats.norm.ppf(1 - (1 - confidence_level) / 2)\n",
    "\n",
    "# Compute margin of error\n",
    "margin_of_error = z_score * (sample_std / np.sqrt(sample_size))\n",
    "\n",
    "# Calculate confidence interval\n",
    "lower_bound = sample_mean - margin_of_error\n",
    "upper_bound = sample_mean + margin_of_error\n",
    "\n",
    "#THIS SOLVED IT!!!!\n",
    "popmean=10000\n",
    "print(ttest_1samp(data, popmean=popmean).confidence_interval(0.99))\n",
    "\n",
    "t_stat, p_value = ttest_1samp(data,popmean=popmean)\n",
    "\n",
    "print(np.std(data))\n",
    "\n",
    "print(f\"CI: [{lower_bound:.2f};{upper_bound:.2f}]\")"
   ],
   "id": "e65e352d1b793555",
   "outputs": [
    {
     "name": "stdout",
     "output_type": "stream",
     "text": [
      "ConfidenceInterval(low=np.float64(5399.6826889705535), high=np.float64(10180.317311029447))\n",
      "2206.558406206371\n",
      "0.81\n",
      "CI: [15.17;18.83]\n"
     ]
    }
   ],
   "execution_count": 10
  },
  {
   "metadata": {},
   "cell_type": "markdown",
   "source": "### linear regression",
   "id": "795f5a938d2d139e"
  },
  {
   "metadata": {
    "ExecuteTime": {
     "end_time": "2024-12-10T16:52:28.318274Z",
     "start_time": "2024-12-10T16:52:28.313830Z"
    }
   },
   "cell_type": "code",
   "source": [
    "#VIII.1 (12)+(13)+(14)\n",
    "#(12)\n",
    "#beta1 slope koefficient (is under year -- estiamte) and times it by 5 years  0.027634*5\n",
    "print(0.027634*5)\n",
    "#asnwer in 3rd option\n",
    "\n",
    "#(13)\n",
    "# tObs = beta 1 (0.027634) / stdErr (0.008736)\n",
    "tObs = 0.027634/0.008736\n",
    "#critical value is found by \n",
    "df = 24 #found in the regression output\n",
    "alpha = 0.01\n",
    "critVal = stats.t.ppf(1-alpha/2, df)\n",
    "print(f\"crit val:{critVal} tObs:{tObs}\")\n",
    "# option 2 is correct since the citIntVal is +-2.8 and tObs is > 2.8\n",
    "\n",
    "#(14)\n",
    "alpha2 = 0.05\n",
    "critVal2 = stats.t.ppf(1-alpha2/2, df)\n",
    "print(f\"crit val:{critVal2}\")"
   ],
   "id": "884dc76ccf329102",
   "outputs": [
    {
     "name": "stdout",
     "output_type": "stream",
     "text": [
      "0.13817\n",
      "crit val:2.796939504772804 tObs:3.1632326007326004\n",
      "crit val:2.063898561628021\n"
     ]
    }
   ],
   "execution_count": 17
  },
  {
   "metadata": {},
   "cell_type": "markdown",
   "source": "### prediction interval",
   "id": "6c7ec14bf6ad2fd7"
  },
  {
   "metadata": {
    "ExecuteTime": {
     "end_time": "2024-12-10T17:09:06.082742Z",
     "start_time": "2024-12-10T17:09:06.053107Z"
    }
   },
   "cell_type": "code",
   "source": [
    "#(15)\n",
    "# Data: Year (independent variable) and DO (dependent variable)\n",
    "year = np.array(range(1990, 2016))\n",
    "DO = np.array([1.52, 2.88, 1.60, 2.24, 2.45, 1.84, 2.03, 2.33, 2.81,\n",
    "               2.46, 2.36, 2.23, 2.81, 2.70, 2.63, 2.00, 2.40, 2.45,\n",
    "               2.48, 2.51, 2.55, 2.77, 2.70, 2.23, 2.88, 3.09])\n",
    "\n",
    "# Create a DataFrame\n",
    "data = pd.DataFrame({'year': year, 'DO': DO})\n",
    "\n",
    "# Fit the linear regression model\n",
    "model = smf.ols('DO ~ year', data=data).fit()\n",
    "\n",
    "# Define the year for prediction (2022 in this case)\n",
    "new_year = pd.DataFrame({'year': [2022]})\n",
    "\n",
    "# Get predictions with confidence and prediction intervals\n",
    "predictions = model.get_prediction(new_year)\n",
    "\n",
    "# Get summary frame (includes prediction interval)\n",
    "pred_summary = predictions.summary_frame(alpha=0.05)  # 95% confidence level\n",
    "\n",
    "print(pred_summary)\n",
    "\n",
    "#below mean ci is the confidence interval and obs ci is the prediction interval \n",
    "# answer is 1 as the value is within the prediction interval"
   ],
   "id": "e643df84a49a5cb4",
   "outputs": [
    {
     "name": "stdout",
     "output_type": "stream",
     "text": [
      "       mean  mean_se  mean_ci_lower  mean_ci_upper  obs_ci_lower  obs_ci_upper\n",
      "0  2.960021  0.18252       2.583317       3.336724      2.174297      3.745744\n"
     ]
    }
   ],
   "execution_count": 18
  },
  {
   "metadata": {},
   "cell_type": "markdown",
   "source": "### exponential distribution find the chance of event in x time",
   "id": "921b4bc5e17e0035"
  },
  {
   "metadata": {
    "ExecuteTime": {
     "end_time": "2024-12-11T15:14:09.086399Z",
     "start_time": "2024-12-11T15:14:09.078079Z"
    }
   },
   "cell_type": "code",
   "source": [
    "#IX.1(16)\n",
    "# Parameters\n",
    "lambda_val = 1/2 # rate at which events occur pr unit of time fx 1 for an event every 1 hour 1/2 for an event every two hours...\n",
    "rate_param = 1 / lambda_val # inverse of lambda val and defines how much time for 1 event ao here 15 units of time before an event\n",
    "k = 1 # find cumulative probability of \n",
    "\n",
    "# Calculate Exponential CDF for P(X < k)\n",
    "expo_cdf1 = stats.expon.cdf(1, scale=rate_param)\n",
    "expo_cdf2 = 1-stats.expon.cdf(2, scale=rate_param)\n",
    "expo_cdf = 1-(expo_cdf1+expo_cdf2)\n",
    "print(f\"P(X < {k}) = {expo_cdf}\")\n",
    "\n",
    "# Calculate mean and variance\n",
    "mean, var = stats.expon.stats(scale=rate_param)\n",
    "#print(f\"Mean: {mean}\")\n",
    "#print(f\"Variance: {var}\")\n",
    "#answer is number 5"
   ],
   "id": "cb7777299f7bc11f",
   "outputs": [
    {
     "name": "stdout",
     "output_type": "stream",
     "text": [
      "P(X < 1) = 0.2386512185411911\n",
      "Mean: 2.0\n",
      "Variance: 4.0\n"
     ]
    }
   ],
   "execution_count": 19
  },
  {
   "metadata": {},
   "cell_type": "code",
   "outputs": [],
   "execution_count": null,
   "source": "#X.1 (17)\n",
   "id": "ac5dd3b473a211c5"
  }
 ],
 "metadata": {
  "kernelspec": {
   "display_name": "Python 3",
   "language": "python",
   "name": "python3"
  },
  "language_info": {
   "codemirror_mode": {
    "name": "ipython",
    "version": 2
   },
   "file_extension": ".py",
   "mimetype": "text/x-python",
   "name": "python",
   "nbconvert_exporter": "python",
   "pygments_lexer": "ipython2",
   "version": "2.7.6"
  }
 },
 "nbformat": 4,
 "nbformat_minor": 5
}
