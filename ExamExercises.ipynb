{
 "cells": [
  {
   "metadata": {
    "collapsed": true
   },
   "cell_type": "code",
   "source": [
    "from os import error\n",
    "\n",
    "import numpy as np\n",
    "import matplotlib.pyplot as plt\n",
    "import pandas as pd\n",
    "import scipy.stats as stats\n",
    "import statsmodels.formula.api as smf\n",
    "import statsmodels.api as sm\n"
   ],
   "id": "initial_id",
   "outputs": [],
   "execution_count": null
  },
  {
   "metadata": {},
   "cell_type": "markdown",
   "source": "# exam set June 2024",
   "id": "ccee3f8ac3289a38"
  },
  {
   "metadata": {},
   "cell_type": "code",
   "source": [
    "#task 1\n",
    "lambda1 = 10 #every hour\n",
    "lambda2 = 15 #every hour\n",
    "\n",
    "lambda1New = lambda1/4\n",
    "lambda2New = lambda2/6\n",
    "\n",
    "print(stats.poisson.pmf(10, lambda1New))\n",
    "print(lambda1New/lambda2New)"
   ],
   "id": "1b96f16be49f969d",
   "outputs": [],
   "execution_count": null
  },
  {
   "metadata": {},
   "cell_type": "code",
   "source": [
    "lambda2New = lambda2/30\n",
    "print(1-stats.poisson.cdf(2, lambda2New))"
   ],
   "id": "19cfb58a8da5a00e",
   "outputs": [],
   "execution_count": null
  },
  {
   "metadata": {},
   "cell_type": "markdown",
   "source": "",
   "id": "45bb34ecc0734997"
  },
  {
   "metadata": {},
   "cell_type": "code",
   "source": [
    "#task 3\n",
    "n = 40 # normally distributed\n",
    "airMean = 34.66\n",
    "airStd = 10.12\n"
   ],
   "id": "eb3f8fe27562d77",
   "outputs": [],
   "execution_count": null
  },
  {
   "metadata": {},
   "cell_type": "code",
   "source": [
    "\n",
    "# Data\n",
    "batch_sizes = np.array([50, 100, 150, 200, 250, 300, 350, 400, 450, 500])\n",
    "\n",
    "# data to be predicted\n",
    "costs = np.array([2.33, 4.21, 6.01, 7.51, 8.46, 8.93, 9.45, 10.70, 10.55, 10.74])\n",
    "\n",
    "# Fit linear regression model\n",
    "X = sm.add_constant(batch_sizes)  # Add intercept\n",
    "model = sm.OLS(costs, X).fit()\n",
    "\n",
    "# Extract R-squared\n",
    "# r_squared = model.rsquared   -- if required or simply get it through summary\n",
    "\n",
    "print(model.summary(slim=True))\n",
    "\n"
   ],
   "id": "f38db3209389a225",
   "outputs": [],
   "execution_count": null
  },
  {
   "metadata": {},
   "cell_type": "code",
   "source": [
    "# this gives a confidence interval for all the variables in the model in the order of the model seen above \n",
    "# so the first confidence interval is for beta_0 or const\n",
    "# and the second is for beta_1 or x1 \n",
    "conf_interval_99 = model.conf_int(alpha=0.01)\n",
    "print(conf_interval_99) "
   ],
   "id": "bd115461e727dde4",
   "outputs": [],
   "execution_count": null
  },
  {
   "metadata": {},
   "cell_type": "code",
   "source": [
    "#V.1\n",
    "print(24998/46551)"
   ],
   "id": "752598c63c73214d",
   "outputs": [],
   "execution_count": null
  },
  {
   "metadata": {},
   "cell_type": "code",
   "source": [
    "# V.3 (12)\n",
    "#expected count given that the distribution for both male and female is the same across all age groups \n",
    "# the formula is (row total * column total) / grand total\n",
    "print((28176*24998)/46551)"
   ],
   "id": "d3aae090275b0ca3",
   "outputs": [],
   "execution_count": null
  },
  {
   "metadata": {},
   "cell_type": "code",
   "source": [
    "# V.4 (13)\n",
    "alpha = 0.05\n",
    "n=28176\n",
    "proportion = 14048/n\n",
    "standardError = np.sqrt((proportion*(1-proportion))/n)\n",
    "zStat = stats.norm.ppf(1-alpha/2)\n",
    "\n",
    "errorMargin = standardError * zStat\n",
    "print(errorMargin) \n",
    "upMarg = proportion + errorMargin\n",
    "lowMarg = proportion - errorMargin\n",
    "print(f\"conf int is low {lowMarg} and up {upMarg}\")\n",
    " "
   ],
   "id": "ed3d3f689ddc89b",
   "outputs": [],
   "execution_count": null
  },
  {
   "metadata": {},
   "cell_type": "code",
   "source": [
    "#v.5 (14)\n",
    "# remember it is 100 or more so we need to find  area of 99 or less not 100 or less\n",
    "print(1-stats.binom.cdf(99, 190, 0.45))"
   ],
   "id": "327c31776567bb39",
   "outputs": [],
   "execution_count": null
  },
  {
   "metadata": {},
   "cell_type": "markdown",
   "source": "",
   "id": "1ecc96490c39279d"
  },
  {
   "metadata": {},
   "cell_type": "code",
   "source": [
    "#v.III (18)\n",
    "n1, n2 = 25000, 15000 # normally distributed\n",
    "mean1, mean2 = 1250, 1300\n",
    "std1, std2 = 54.24, 28.54 \n",
    "alpha = 0.05\n",
    "\n",
    "meanDiff = mean1-mean2\n",
    "\n",
    "SE = np.sqrt((std1**2 / n1) + (std2**2 / n2))\n",
    "\n",
    "\n",
    "# stError = np.sqrt((proportion*(1-proportion)/n)   # this is for a proportion\n",
    "critValue = stats.norm.ppf((1-alpha/2)) #  \n",
    "# critValue = stats.norm.ppf((1-alpha/2),fDegrees) # for a big sample 29<n\n",
    "marginError = critValue * SE\n",
    "\n",
    "upBound = meanDiff+marginError\n",
    "lowBound = meanDiff-marginError\n",
    "\n",
    "print(f\"Mean Difference: {meanDiff}\")\n",
    "print(f\"Standard Error of the Difference: {SE:.4f}\")\n",
    "print(f\"Critical Z-Value: {critValue:.4f}\")\n",
    "print(f\"Margin of Error: {marginError:.4f}\")\n",
    "print(f\"95% Confidence Interval: ({lowBound:.2f}, {upBound:.2f})\")\n"
   ],
   "id": "db9cbcf18d721d4",
   "outputs": [],
   "execution_count": null
  },
  {
   "metadata": {},
   "cell_type": "code",
   "source": [
    "#VIII.2 (19)\n",
    "nullDiff = -50\n",
    "\n",
    "print((meanDiff-nullDiff)/SE)"
   ],
   "id": "d13807c634433694",
   "outputs": [],
   "execution_count": null
  },
  {
   "metadata": {},
   "cell_type": "code",
   "source": [
    "#VIII.3 (20)\n",
    "# use when mean of two groups are dependant \n",
    "# if the hypothesis is not simply that the mean difference is 0 \n",
    "# in the example the hypothesis is h_0 : mean_current - mean_new = 0.05\n",
    "currentModel = np.array([7.964, 7.813, 8.299, 8.219, 9.832, 9.829, 9.842, 9.498, 7.023, 8.408])\n",
    "newModel = np.array([7.932, 7.762 , 8.243, 8.174, 9.782, 9.775, 9.794, 9.445, 6.942, 8.347])\n",
    "null_difference = 0.05\n",
    "differences = currentModel - newModel\n",
    "n = len(differences)\n",
    "meanDiff = np.mean(differences)\n",
    "stDeviation = np.std(differences, ddof=1)\n",
    "standardErrorDiff = stDeviation/np.sqrt(n)\n",
    "\n",
    "tStat = (meanDiff - null_difference) / standardErrorDiff\n",
    "\n",
    "# Step 4: Compute the p-value\n",
    "pValueDiff = 2 * (1 - stats.t.cdf(abs(tStat), df=n-1))\n",
    "print(f\"tStat {tStat} pVal {pValueDiff} meandiff {meanDiff} standardErr {standardErrorDiff}\")\n",
    "\n",
    "# OBS!!!! t-statistic and p-value directly if the hypthesis is h_0 : mean_current - mean_new = 0\n",
    "#t_stat, p_value = stats.ttest_rel(currentModel, newModel)\n",
    "#print(t_stat, p_value)"
   ],
   "id": "e78a537072e07277",
   "outputs": [],
   "execution_count": null
  },
  {
   "metadata": {},
   "cell_type": "code",
   "source": [
    "#IX.2 (22)\n",
    "\n",
    "pValSupply = stats.f.sf(3.8696, 3,12)\n",
    "pValDay = stats.f.sf(4.6362, 4, 12)\n",
    "print(pValSupply, pValDay)\n",
    "\n",
    "\n",
    "## the two way anova table itself (not nescessary for the task)\n",
    "\n",
    "# Step 1: Create the data\n",
    "data = pd.DataFrame({\n",
    "    \"Strength\": [92.0, 131.0, 74.1, 90.4,  # Day 1\n",
    "                 111.6, 103.5, 52.8, 95.2,  # Day 2\n",
    "                 98.4, 100.0, 82.5, 87.6,  # Day 3\n",
    "                 87.7, 84.7, 94.7, 63.2,  # Day 4\n",
    "                 134.9, 134.5, 107.3, 119.5],  # Day 5\n",
    "    \"Supplier\": [\"A\", \"B\", \"C\", \"D\"] * 5,\n",
    "    \"Day\": [\"Day 1\"] * 4 + [\"Day 2\"] * 4 + [\"Day 3\"] * 4 + [\"Day 4\"] * 4 + [\"Day 5\"] * 4\n",
    "})\n",
    "\n",
    "# Step 2: Fit the two-way ANOVA model\n",
    "model = smf.ols(\"Strength ~ C(Supplier) + C(Day)\", data=data).fit()\n",
    "\n",
    "# Step 3: Perform the ANOVA\n",
    "anova_table = sm.stats.anova_lm(model, typ=2)  # typ=2 for main effects only\n",
    "\n",
    "# Display the ANOVA table\n",
    "print(anova_table)"
   ],
   "id": "7b50e675e687b5b8",
   "outputs": [],
   "execution_count": null
  },
  {
   "metadata": {},
   "cell_type": "code",
   "source": [
    "#X.1 & .2\n",
    "#in both of these the task states that there i no distributional assumption which invalidates the t-test portion of both as a t-test assumes a normal distribution and the solution is therefore to see whether the null hypothesis is true based on the given 2.5% and 97.5% quantiles. if the values (in the first task a return of 20) (second task a difference of 0) are within the bounds of their respective values of said quantiles then the null hypothesis is \"accepted\" (or at least not rejected)"
   ],
   "id": "95cee5a124fdc047",
   "outputs": [],
   "execution_count": null
  },
  {
   "metadata": {},
   "cell_type": "markdown",
   "source": "# 2023 march\n",
   "id": "5be16eb9e962c25"
  },
  {
   "metadata": {},
   "cell_type": "code",
   "source": [
    "nice= stats.norm.ppf(0.85)\n",
    "print(55+nice*19)"
   ],
   "id": "90b569e1764914fb",
   "outputs": [],
   "execution_count": null
  },
  {
   "metadata": {},
   "cell_type": "code",
   "source": [
    "data = 8500, 10300, 6800, 10600, 4900, 6200, 10800, 5700, 5100, 9000\n",
    "n= len(data)\n",
    "std = np.std(data)\n",
    "mean = np.mean(data)\n",
    "fDegrees = n-1\n",
    "alpha = 0.01\n",
    "\n",
    "stError = std/np.sqrt(n) # 1.6 this is for a mean\n",
    "# stError = np.sqrt((proportion*(1-proportion)/n)   # this is for a proportion\n",
    "critValue = stats.t.ppf((1-alpha/2),fDegrees) #  for a small smaple 30>n\n",
    "# critValue = stats.norm.ppf((1-alpha/2),fDegrees) # for a big sample 29<n\n",
    "marginError = critValue * stError\n",
    "\n",
    "upBound = mean+marginError\n",
    "lowBound = mean-marginError\n",
    "\n",
    "print(f\"The confidence interval is {lowBound} to {upBound}\")\n",
    "\n"
   ],
   "id": "daca5b16f62c7dd0",
   "outputs": [],
   "execution_count": null
  }
 ],
 "metadata": {
  "kernelspec": {
   "display_name": "Python 3",
   "language": "python",
   "name": "python3"
  },
  "language_info": {
   "codemirror_mode": {
    "name": "ipython",
    "version": 2
   },
   "file_extension": ".py",
   "mimetype": "text/x-python",
   "name": "python",
   "nbconvert_exporter": "python",
   "pygments_lexer": "ipython2",
   "version": "2.7.6"
  }
 },
 "nbformat": 4,
 "nbformat_minor": 5
}
