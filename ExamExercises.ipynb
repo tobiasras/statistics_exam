{
 "cells": [
  {
   "cell_type": "code",
   "id": "initial_id",
   "metadata": {
    "collapsed": true,
    "ExecuteTime": {
     "end_time": "2024-11-30T11:29:13.535972Z",
     "start_time": "2024-11-30T11:29:12.414395Z"
    }
   },
   "source": [
    "import numpy as np\n",
    "import matplotlib.pyplot as plt\n",
    "import pandas as pd\n",
    "import scipy.stats as stats\n",
    "import statsmodels.formula.api as smf\n",
    "import statsmodels.api as sm"
   ],
   "outputs": [],
   "execution_count": 1
  },
  {
   "metadata": {},
   "cell_type": "markdown",
   "source": "# exam set June 2024",
   "id": "ccee3f8ac3289a38"
  },
  {
   "metadata": {
    "ExecuteTime": {
     "end_time": "2024-11-24T12:08:45.287737Z",
     "start_time": "2024-11-24T12:08:45.281356Z"
    }
   },
   "cell_type": "code",
   "source": [
    "#task 1\n",
    "lambda1 = 10 #every hour\n",
    "lambda2 = 15 #every hour\n",
    "\n",
    "lambda1New = lambda1/4\n",
    "lambda2New = lambda2/6\n",
    "\n",
    "print(stats.poisson.pmf(10, lambda1New))\n",
    "print(lambda1New/lambda2New)"
   ],
   "id": "1b96f16be49f969d",
   "outputs": [
    {
     "name": "stdout",
     "output_type": "stream",
     "text": [
      "0.00021572518449585165\n",
      "1.0\n"
     ]
    }
   ],
   "execution_count": 3
  },
  {
   "metadata": {
    "ExecuteTime": {
     "end_time": "2024-11-24T12:10:59.148598Z",
     "start_time": "2024-11-24T12:10:59.145448Z"
    }
   },
   "cell_type": "code",
   "source": [
    "lambda2New = lambda2/30\n",
    "print(1-stats.poisson.cdf(2, lambda2New))"
   ],
   "id": "19cfb58a8da5a00e",
   "outputs": [
    {
     "name": "stdout",
     "output_type": "stream",
     "text": [
      "0.014387677966970713\n"
     ]
    }
   ],
   "execution_count": 5
  },
  {
   "metadata": {},
   "cell_type": "markdown",
   "source": "",
   "id": "45bb34ecc0734997"
  },
  {
   "metadata": {},
   "cell_type": "code",
   "outputs": [],
   "execution_count": null,
   "source": [
    "#task 3\n",
    "n = 40 # normally distributed\n",
    "airMean = 34.66\n",
    "airStd = 10.12\n"
   ],
   "id": "eb3f8fe27562d77"
  },
  {
   "metadata": {
    "ExecuteTime": {
     "end_time": "2024-11-30T12:08:09.849067Z",
     "start_time": "2024-11-30T12:08:09.834730Z"
    }
   },
   "cell_type": "code",
   "source": [
    "\n",
    "# Data\n",
    "batch_sizes = np.array([50, 100, 150, 200, 250, 300, 350, 400, 450, 500])\n",
    "\n",
    "# data to be predicted\n",
    "costs = np.array([2.33, 4.21, 6.01, 7.51, 8.46, 8.93, 9.45, 10.70, 10.55, 10.74])\n",
    "\n",
    "# Fit linear regression model\n",
    "X = sm.add_constant(batch_sizes)  # Add intercept\n",
    "model = sm.OLS(costs, X).fit()\n",
    "\n",
    "# Extract R-squared\n",
    "# r_squared = model.rsquared   -- if required or simply get it through summary\n",
    "\n",
    "print(model.summary(slim=True))\n",
    "\n"
   ],
   "id": "f38db3209389a225",
   "outputs": [
    {
     "name": "stdout",
     "output_type": "stream",
     "text": [
      "                            OLS Regression Results                            \n",
      "==============================================================================\n",
      "Dep. Variable:                      y   R-squared:                       0.906\n",
      "Model:                            OLS   Adj. R-squared:                  0.894\n",
      "No. Observations:                  10   F-statistic:                     77.07\n",
      "Covariance Type:            nonrobust   Prob (F-statistic):           2.22e-05\n",
      "==============================================================================\n",
      "                 coef    std err          t      P>|t|      [0.025      0.975]\n",
      "------------------------------------------------------------------------------\n",
      "const          2.8953      0.642      4.512      0.002       1.415       4.375\n",
      "x1             0.0182      0.002      8.779      0.000       0.013       0.023\n",
      "==============================================================================\n",
      "\n",
      "Notes:\n",
      "[1] Standard Errors assume that the covariance matrix of the errors is correctly specified.\n"
     ]
    },
    {
     "name": "stderr",
     "output_type": "stream",
     "text": [
      "/opt/homebrew/Caskroom/miniconda/base/envs/statistics_exam_prep/lib/python3.12/site-packages/scipy/stats/_axis_nan_policy.py:418: UserWarning: `kurtosistest` p-value may be inaccurate with fewer than 20 observations; only n=10 observations were given.\n",
      "  return hypotest_fun_in(*args, **kwds)\n"
     ]
    }
   ],
   "execution_count": 4
  },
  {
   "metadata": {
    "ExecuteTime": {
     "end_time": "2024-11-30T12:08:37.979462Z",
     "start_time": "2024-11-30T12:08:37.976951Z"
    }
   },
   "cell_type": "code",
   "source": [
    "# this gives a confidence interval for all the variables in the model in the order of the model seen above \n",
    "# so the first confidence interval is for beta_0 or const\n",
    "# and the second is for beta_1 or x1 \n",
    "conf_interval_99 = model.conf_int(alpha=0.01)\n",
    "print(conf_interval_99) "
   ],
   "id": "bd115461e727dde4",
   "outputs": [
    {
     "name": "stdout",
     "output_type": "stream",
     "text": [
      "[[0.74205577 5.0486109 ]\n",
      " [0.01121815 0.02509943]]\n"
     ]
    }
   ],
   "execution_count": 6
  },
  {
   "metadata": {
    "ExecuteTime": {
     "end_time": "2024-11-30T14:11:30.478915Z",
     "start_time": "2024-11-30T14:11:30.476992Z"
    }
   },
   "cell_type": "code",
   "source": [
    "#V.1\n",
    "print(24998/46551)"
   ],
   "id": "752598c63c73214d",
   "outputs": [
    {
     "name": "stdout",
     "output_type": "stream",
     "text": [
      "0.5370024274451677\n"
     ]
    }
   ],
   "execution_count": 8
  },
  {
   "metadata": {},
   "cell_type": "code",
   "outputs": [],
   "execution_count": null,
   "source": "",
   "id": "d3aae090275b0ca3"
  }
 ],
 "metadata": {
  "kernelspec": {
   "display_name": "Python 3",
   "language": "python",
   "name": "python3"
  },
  "language_info": {
   "codemirror_mode": {
    "name": "ipython",
    "version": 2
   },
   "file_extension": ".py",
   "mimetype": "text/x-python",
   "name": "python",
   "nbconvert_exporter": "python",
   "pygments_lexer": "ipython2",
   "version": "2.7.6"
  }
 },
 "nbformat": 4,
 "nbformat_minor": 5
}
