{
 "cells": [
  {
   "cell_type": "code",
   "execution_count": null,
   "metadata": {},
   "outputs": [],
   "source": [
    "import numpy as np\n",
    "import matplotlib.pyplot as plt \n",
    "import pandas as pd\n",
    "import scipy.stats as stats\n",
    "import statsmodels.formula.api as smf\n",
    "import statsmodels.api as sm"
   ]
  },
  {
   "cell_type": "markdown",
   "metadata": {},
   "source": [
    "# Plots"
   ]
  },
  {
   "cell_type": "markdown",
   "metadata": {},
   "source": [
    "## Box plot"
   ]
  },
  {
   "cell_type": "markdown",
   "metadata": {},
   "source": [
    "## Scatter plot"
   ]
  },
  {
   "cell_type": "markdown",
   "metadata": {},
   "source": [
    "## QQ - plot"
   ]
  },
  {
   "cell_type": "markdown",
   "metadata": {},
   "source": [
    "# Distributions"
   ]
  },
  {
   "cell_type": "markdown",
   "metadata": {},
   "source": [
    "\n",
    "Discrete distributions:\n",
    "- Binomial distribution\n",
    "- Hypergeometric distribution\n",
    "- Poisson distribution\n",
    "\n",
    "Contiunous distribution:\n",
    "- Uniform distribution\n",
    "- Normal Distribution\n",
    "- Exponential Distribtion"
   ]
  },
  {
   "cell_type": "markdown",
   "metadata": {},
   "source": [
    "## Binomial distribution\n",
    "1. **Mean (Expected Value):** $\\mathbb{E}[X] = n \\cdot p$\n",
    "2. **Variance:** $\\text{Var}(X) = n \\cdot p \\cdot (1 - p)$\n",
    "3. **Standard Deviation:** $\\sigma = \\sqrt{n \\cdot p \\cdot (1 - p)}$"
   ]
  },
  {
   "cell_type": "markdown",
   "metadata": {},
   "source": [
    "### Binom PMF P(X = K)"
   ]
  },
  {
   "cell_type": "code",
   "execution_count": 26,
   "metadata": {},
   "outputs": [
    {
     "name": "stdout",
     "output_type": "stream",
     "text": [
      "P(X = 5) = 0.20065812479999992\n",
      "Mean: 6.0\n",
      "Variance: 2.4000000000000004\n"
     ]
    }
   ],
   "source": [
    "# Parameters for the binomial distribution\n",
    "n = 10      # number of trials\n",
    "p = 0.6     # probability of success\n",
    "k = 5       # Testing Value\n",
    "\n",
    "# P(X = 5)\n",
    "retval_eq_k = stats.binom.pmf(k=k ,n=n, p=p)\n",
    "\n",
    "# Print result\n",
    "print(f\"P(X = {k}) = {retval_eq_k}\")\n",
    "\n",
    "# Get mean and variance\n",
    "mean, var = stats.binom.stats(n=n, p=p)\n",
    "print(f\"Mean: {mean}\")\n",
    "print(f\"Variance: {var}\")"
   ]
  },
  {
   "cell_type": "markdown",
   "metadata": {},
   "source": [
    "### Binom CDF: P(X > k)"
   ]
  },
  {
   "cell_type": "code",
   "execution_count": 27,
   "metadata": {},
   "outputs": [
    {
     "name": "stdout",
     "output_type": "stream",
     "text": [
      "P(X > 4) = 0.8337613824\n",
      "Mean: 6.0\n",
      "Variance: 2.4000000000000004\n"
     ]
    }
   ],
   "source": [
    "# Parameters for the binomial distribution\n",
    "n = 10       # number of trials\n",
    "p = 0.6      # probability of success\n",
    "k = 4        # Testing Value\n",
    "\n",
    "# P(X > k)\n",
    "retval_greater_than_k = 1 - stats.binom.cdf(k, n, p)  # CDF for k\n",
    "# Print result\n",
    "print(f\"P(X > {k}) = {retval_greater_than_k}\")\n",
    "\n",
    "# Get mean and variance\n",
    "mean, var = stats.binom.stats(n=n, p=p)\n",
    "print(f\"Mean: {mean}\")\n",
    "print(f\"Variance: {var}\")"
   ]
  },
  {
   "cell_type": "markdown",
   "metadata": {},
   "source": [
    "### Binom CDF: P(X < k)"
   ]
  },
  {
   "cell_type": "code",
   "execution_count": null,
   "metadata": {},
   "outputs": [],
   "source": [
    "# Parameters for the binomial distribution\n",
    "n = 10       # number of trials\n",
    "p = 0.6      # probability of success\n",
    "k = 5        # Testing Value\n",
    "\n",
    "# P(X < 5) = P(X <= 4)\n",
    "retval_less_than_k = stats.binom.cdf(k - 1, n, p)  # CDF for k - 1'\n",
    "print(f\"P(X < {k}) = {retval_less_than_k}\")\n",
    "\n",
    "# Get mean and variance\n",
    "mean, var = stats.binom.stats(n=n, p=p)\n",
    "print(f\"Mean: {mean}\")\n",
    "print(f\"Variance: {var}\")\n"
   ]
  },
  {
   "cell_type": "markdown",
   "metadata": {},
   "source": [
    "## Poisson distribution\n",
    "1. **Mean (Expected Value):** $ \\mathbb{E}[X] = \\lambda $\n",
    "2. **Variance:** $ \\text{Var}(X) = \\lambda $\n",
    "3. **Standard Deviation:** $ \\sigma = \\sqrt{\\lambda} $"
   ]
  },
  {
   "cell_type": "markdown",
   "metadata": {},
   "source": [
    "### Poisson PMF: P(X = k)"
   ]
  },
  {
   "cell_type": "code",
   "execution_count": null,
   "metadata": {},
   "outputs": [],
   "source": [
    "# Parameters for Poisson distribution\n",
    "lambda_val = 10/4  # mean (expected number of events)\n",
    "k = 10           # number of events we want the probability for\n",
    "\n",
    "# Calculate Poisson PMF\n",
    "poisson_pmf = stats.poisson.pmf(k, lambda_val)\n",
    "print(f\"P(X = {k}) = {poisson_pmf}\")"
   ]
  },
  {
   "cell_type": "markdown",
   "metadata": {},
   "source": [
    "### Poisson CDF: P(X < k)"
   ]
  },
  {
   "cell_type": "code",
   "execution_count": null,
   "metadata": {},
   "outputs": [],
   "source": [
    "# Parameters for Poisson distribution\n",
    "lambda_val = 3  # mean (expected number of events)\n",
    "k = 2           # upper limit of events for cumulative probability\n",
    "\n",
    "# Calculate Poisson CDF for P(X < k), which is actually P(X <= k-1)\n",
    "poisson_cdf = stats.poisson.cdf(k - 1, lambda_val)\n",
    "\n",
    "print(f\"P(X < {k}) = {poisson_cdf}\")\n"
   ]
  },
  {
   "cell_type": "markdown",
   "metadata": {},
   "source": [
    "### Poisson CDF: P(X > k)"
   ]
  },
  {
   "cell_type": "code",
   "execution_count": null,
   "metadata": {},
   "outputs": [],
   "source": [
    "\n",
    "# Parameters\n",
    "lambda_val = 3  # mean (expected number of events)\n",
    "k = 2           # lower limit of events for the \"greater than\" probability\n",
    "\n",
    "# Calculate Poisson CDF for P(X > k)\n",
    "poisson_prob_greater = 1 - stats.poisson.cdf(k, lambda_val)\n",
    "\n",
    "print(f\"P(X > {k}) = {poisson_prob_greater}\")"
   ]
  },
  {
   "cell_type": "markdown",
   "metadata": {},
   "source": [
    "## Hypergeometric distribution\n",
    "\n",
    "Let $X \\sim \\text{Hypergeometric}(N, K, n)$, where:\n",
    "- $N$ is the population size,\n",
    "- $K$ is the number of successes in the population,\n",
    "- $n$ is the number of draws.\n",
    "\n",
    "1. **Mean (Expected Value):** $\\mathbb{E}[X] = n \\cdot \\frac{K}{N}$\n",
    "\n",
    "\n",
    "2. **Variance:** $\\text{Var}(X) = n \\cdot \\frac{K}{N} \\cdot \\frac{N - K}{N} \\cdot \\frac{N - n}{N - 1}$\n",
    "\n",
    "\n",
    "3. **Standard Deviation:** $\\sigma = \\sqrt{n \\cdot \\frac{K}{N} \\cdot \\frac{N - K}{N} \\cdot \\frac{N - n}{N - 1}}$"
   ]
  },
  {
   "cell_type": "markdown",
   "metadata": {},
   "source": [
    "### Hyper PMF: P(X = k)"
   ]
  },
  {
   "cell_type": "code",
   "execution_count": null,
   "metadata": {},
   "outputs": [
    {
     "name": "stdout",
     "output_type": "stream",
     "text": [
      "P(X = 5) = 0.2401\n",
      "Mean: 6.0\n",
      "Variance: 1.263157894736842\n"
     ]
    }
   ],
   "source": [
    "# Parameters for the hypergeometric distribution\n",
    "N = 20       # Total population size\n",
    "K = 12       # Number of successes in the population\n",
    "n = 10       # Sample size\n",
    "k = 5        # Testing value for exactly 5 successes\n",
    "\n",
    "# P(X = k)\n",
    "retval_equal_to_k = stats.hypergeom.pmf(k, N, K, n)  # PMF for k\n",
    "print(f\"P(X = {k}) = {retval_equal_to_k:.4f}\")\n",
    "\n",
    "mean, var = stats.hypergeom.stats(N, K, n)\n",
    "print(f\"Mean: {mean}\")\n",
    "print(f\"Variance: {var}\")"
   ]
  },
  {
   "cell_type": "markdown",
   "metadata": {},
   "source": [
    "### Hyper CDF: P(X < k)"
   ]
  },
  {
   "cell_type": "code",
   "execution_count": null,
   "metadata": {},
   "outputs": [],
   "source": [
    "# Parameters for the hypergeometric distribution\n",
    "N = 20       # Total population size\n",
    "K = 12       # Number of successes in the population\n",
    "n = 10       # Sample size\n",
    "\n",
    "k = 5        # Testing threshold\n",
    "\n",
    "# P(X < 5) = P(X <= 4)\n",
    "retval_less_than_k = stats.hypergeom.cdf(k - 1, N, K, n)  # CDF for k - 1\n",
    "print(f\"P(X < {k}) = {retval_less_than_k:.4f}\")\n",
    "\n",
    "\n",
    "mean, var = stats.hypergeom.stats(N, K, n)\n",
    "print(f\"Mean: {mean}\")\n",
    "print(f\"Variance: {var}\")"
   ]
  },
  {
   "cell_type": "markdown",
   "metadata": {},
   "source": [
    "### Hyper CDF: P(X > k)"
   ]
  },
  {
   "cell_type": "code",
   "execution_count": null,
   "metadata": {},
   "outputs": [],
   "source": [
    "# Parameters for the hypergeometric distribution\n",
    "N = 20       # Total population size\n",
    "K = 12       # Number of successes in the population\n",
    "n = 10       # Sample size\n",
    "k = 5        # Testing threshold\n",
    "\n",
    "# P(X > k) = 1 - P(X <= k)\n",
    "retval_greater_than_k = 1 - stats.hypergeom.cdf(k, N, K, n)\n",
    "print(f\"P(X > {k}) = {retval_greater_than_k:.4f}\")\n",
    "\n",
    "mean, var = stats.hypergeom.stats(N, K, n)\n",
    "print(f\"Mean: {mean}\")\n",
    "print(f\"Variance: {var}\")"
   ]
  },
  {
   "cell_type": "markdown",
   "metadata": {},
   "source": [
    "## Normal distribution"
   ]
  },
  {
   "cell_type": "markdown",
   "metadata": {},
   "source": [
    "### Normal: P(X < k)"
   ]
  },
  {
   "cell_type": "code",
   "execution_count": null,
   "metadata": {},
   "outputs": [],
   "source": [
    "# Parameters\n",
    "mu = 0        # mean of the distribution\n",
    "sigma = 1     # standard deviation of the distribution\n",
    "k = 1.5       # value to calculate P(X < k)\n",
    "\n",
    "# Calculate Normal CDF for P(X < k)\n",
    "normal_cdf = stats.norm.cdf(k, mu, sigma)\n",
    "\n",
    "print(f\"P(X < {k}) = {normal_cdf}\")"
   ]
  },
  {
   "cell_type": "markdown",
   "metadata": {},
   "source": [
    "### Normal: P(X > k)"
   ]
  },
  {
   "cell_type": "code",
   "execution_count": null,
   "metadata": {},
   "outputs": [],
   "source": [
    "# Parameters\n",
    "mu = 0        # mean of the distribution\n",
    "sigma = 1     # standard deviation of the distribution\n",
    "k = 1.5       # value to calculate P(X > k)\n",
    "\n",
    "# Calculate Normal CDF for P(X > k)\n",
    "normal_prob_greater = 1 - stats.norm.cdf(k, mu, sigma)\n",
    "\n",
    "print(f\"P(X > {k}) = {normal_prob_greater}\")"
   ]
  },
  {
   "cell_type": "markdown",
   "metadata": {},
   "source": [
    "## Exponential Distribtion"
   ]
  },
  {
   "cell_type": "markdown",
   "metadata": {},
   "source": [
    "### Exponential: P(X < k)"
   ]
  },
  {
   "cell_type": "code",
   "execution_count": null,
   "metadata": {},
   "outputs": [],
   "source": [
    "from scipy.stats import expon\n",
    "\n",
    "# Parameters\n",
    "lambda_val = 1  # rate parameter of the distribution (1 / mean)\n",
    "k = 1.5         # value to calculate P(X < k)\n",
    "\n",
    "# Calculate Exponential CDF for P(X < k)\n",
    "expo_cdf = expon.cdf(k, scale=1/lambda_val)\n",
    "\n",
    "print(f\"P(X < {k}) = {expo_cdf}\")"
   ]
  },
  {
   "cell_type": "markdown",
   "metadata": {},
   "source": [
    "### Exponential: P(X > k)"
   ]
  },
  {
   "cell_type": "code",
   "execution_count": null,
   "metadata": {},
   "outputs": [],
   "source": [
    "# Parameters\n",
    "lambda_val = 1  # rate parameter of the distribution (1 / mean)\n",
    "k = 1.5         # value to calculate P(X > k)\n",
    "\n",
    "# Calculate Exponential CDF for P(X > k)\n",
    "expo_prob_greater = 1 - expon.cdf(k, scale=1/lambda_val)\n",
    "\n",
    "print(f\"P(X > {k}) = {expo_prob_greater}\")"
   ]
  },
  {
   "cell_type": "markdown",
   "metadata": {},
   "source": [
    "# Confidence Intervals"
   ]
  },
  {
   "cell_type": "markdown",
   "metadata": {},
   "source": [
    "## One Sample"
   ]
  },
  {
   "cell_type": "code",
   "execution_count": null,
   "metadata": {},
   "outputs": [],
   "source": [
    "\n",
    "\n",
    "\n",
    "\n",
    "\n",
    "\n"
   ]
  },
  {
   "cell_type": "markdown",
   "metadata": {},
   "source": [
    "## Two Sample"
   ]
  },
  {
   "cell_type": "markdown",
   "metadata": {},
   "source": [
    "\n",
    "\n",
    "\n",
    "\n"
   ]
  },
  {
   "cell_type": "markdown",
   "metadata": {},
   "source": [
    "# Linear Regression"
   ]
  },
  {
   "cell_type": "markdown",
   "metadata": {},
   "source": [
    "## Simple Linear Regression"
   ]
  },
  {
   "cell_type": "code",
   "execution_count": null,
   "metadata": {},
   "outputs": [],
   "source": [
    "x = np.array([168, 161, 167, 179, 184, 166, 198, 187, 191, 179])             # height data\n",
    "y = np.array([65.5, 58.3, 68.1, 85.7, 80.5, 63.4, 102.6, 91.4, 86.7, 78.9])  # weight data\n",
    "\n",
    "student = pd.DataFrame({'x': x, 'y': y})  # \"import pandas as pd\"\n",
    "print(student)\n",
    "\n",
    "fitStudents = smf.ols(formula = 'y ~ x', data=student).fit()\n",
    "\n"
   ]
  },
  {
   "cell_type": "markdown",
   "metadata": {},
   "source": [
    "### Model Creation"
   ]
  },
  {
   "cell_type": "code",
   "execution_count": null,
   "metadata": {},
   "outputs": [],
   "source": [
    "# data x\n",
    "x = np.array([1.46,1.66,1.87,2.11,2.37,2.67,2.94,3.31,3.72,4.24])\n",
    "\n",
    "# data to be predicted\n",
    "y = np.array([1.76,1.96,2.24,2.46,2.80,3.11,3.46,3.95,4.42,4.99])\n",
    "\n",
    "fit = smf.ols('y ~ x', data=pd.DataFrame({'x':x, 'y':y})).fit()\n",
    "print(fit.summary(slim=True))\n"
   ]
  },
  {
   "cell_type": "markdown",
   "metadata": {},
   "source": [
    "### Confidence Interval:"
   ]
  },
  {
   "cell_type": "code",
   "execution_count": null,
   "metadata": {},
   "outputs": [],
   "source": [
    "conf_interval_99 = fit.conf_int(alpha=0.01)\n",
    "conf_interval_95 = fit.conf_int(alpha=0.05)\n",
    "conf_interval_90 = fit.conf_int(alpha=0.10)\n",
    "\n",
    "# Format and display results\n",
    "print(\"Confidence Intervals for Regression Coefficients beta_0 and beta_1\\n\")\n",
    "print(\"99% Confidence Interval:\")\n",
    "print(conf_interval_99.to_string(header=[\"Lower Bound\", \"Upper Bound\"], index=[\"Intercept (b0)\", \"Slope (b1)\"]))\n",
    "print(\"\\n95% Confidence Interval:\")\n",
    "print(conf_interval_95.to_string(header=[\"Lower Bound\", \"Upper Bound\"], index=[\"Intercept (b0)\", \"Slope (b1)\"]))\n",
    "print(\"\\n90% Confidence Interval:\")\n",
    "print(conf_interval_90.to_string(header=[\"Lower Bound\", \"Upper Bound\"], index=[\"Intercept (b0)\", \"Slope (b1)\"]))"
   ]
  },
  {
   "cell_type": "markdown",
   "metadata": {},
   "source": [
    "### Prediction Interval:"
   ]
  },
  {
   "cell_type": "code",
   "execution_count": null,
   "metadata": {},
   "outputs": [],
   "source": [
    "x = 2.5\n",
    "\n",
    "new_x = pd.DataFrame({'x': [x]})\n",
    "\n",
    "# Get 99% prediction intervals for these values\n",
    "prediction_99 = fit.get_prediction(new_x).summary_frame(alpha=0.01)\n",
    "# Get 95% prediction interval\n",
    "prediction_95 = fit.get_prediction(new_x).summary_frame(alpha=0.05)\n",
    "# Get 90% prediction interval\n",
    "prediction_90 = fit.get_prediction(new_x).summary_frame(alpha=0.10)\n",
    "\n",
    "\n",
    "# Print each prediction interval\n",
    "print(\"99% Prediction Interval for x = 2.5:\")\n",
    "print(prediction_99[['mean', 'obs_ci_lower', 'obs_ci_upper']])\n",
    "\n",
    "print(\"\\n95% Prediction Interval for x = 2.5:\")\n",
    "print(prediction_95[['mean', 'obs_ci_lower', 'obs_ci_upper']])\n",
    "\n",
    "print(\"\\n90% Prediction Interval for x = 2.5:\")\n",
    "print(prediction_90[['mean', 'obs_ci_lower', 'obs_ci_upper']])\n"
   ]
  },
  {
   "cell_type": "markdown",
   "metadata": {},
   "source": [
    "### Residuals:"
   ]
  },
  {
   "cell_type": "code",
   "execution_count": null,
   "metadata": {},
   "outputs": [],
   "source": [
    "residuals = fit.resid\n",
    "\n",
    "print(\"Residuals:\")\n",
    "print(residuals)\n",
    "\n",
    "print(np.sqrt(fit.mse_resid))\n",
    "\n",
    "fig, axs = plt.subplots(1, 2, figsize=(15, 6))\n",
    "\n",
    "# Plot residuals against the fitted values\n",
    "axs[0].scatter(fit.fittedvalues, residuals, color='blue', s=100, alpha=0.7, edgecolor='k', label='Residuals')\n",
    "axs[0].axhline(0, color='red', linestyle='--', linewidth=2, label='Zero Line')\n",
    "axs[0].set_xlabel(\"Fitted Values\", fontsize=14)\n",
    "axs[0].set_ylabel(\"Residuals\", fontsize=14)\n",
    "axs[0].set_title(\"Residual Plot\", fontsize=16)\n",
    "axs[0].legend()\n",
    "axs[0].grid()\n",
    "\n",
    "# Q-Q plot\n",
    "stats.probplot(residuals, dist=\"norm\", plot=axs[1])\n",
    "axs[1].set_title(\"Q-Q Plot of Residuals\", fontsize=16)\n",
    "axs[1].set_xlabel(\"Theoretical Quantiles\", fontsize=14)\n",
    "axs[1].set_ylabel(\"Sample Quantiles\", fontsize=14)\n",
    "axs[1].grid()\n",
    "\n",
    "# Adjust layout\n",
    "plt.tight_layout()\n",
    "plt.show()\n",
    "plt.show()"
   ]
  },
  {
   "cell_type": "code",
   "execution_count": null,
   "metadata": {},
   "outputs": [],
   "source": []
  }
 ],
 "metadata": {
  "kernelspec": {
   "display_name": "base",
   "language": "python",
   "name": "python3"
  },
  "language_info": {
   "codemirror_mode": {
    "name": "ipython",
    "version": 3
   },
   "file_extension": ".py",
   "mimetype": "text/x-python",
   "name": "python",
   "nbconvert_exporter": "python",
   "pygments_lexer": "ipython3",
   "version": "3.11.7"
  }
 },
 "nbformat": 4,
 "nbformat_minor": 2
}
