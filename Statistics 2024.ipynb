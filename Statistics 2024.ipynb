{
 "cells": [
  {
   "cell_type": "code",
   "metadata": {
    "ExecuteTime": {
     "end_time": "2024-11-26T12:09:43.021782Z",
     "start_time": "2024-11-26T12:09:41.999676Z"
    }
   },
   "source": [
    "import numpy as np\n",
    "import matplotlib.pyplot as plt\n",
    "import pandas as pd\n",
    "import scipy.stats as stats\n",
    "import statsmodels.formula.api as smf\n",
    "import statsmodels.api as sm"
   ],
   "outputs": [],
   "execution_count": 2
  },
  {
   "cell_type": "markdown",
   "metadata": {},
   "source": [
    "# Plots"
   ]
  },
  {
   "cell_type": "markdown",
   "metadata": {},
   "source": [
    "## Box plot"
   ]
  },
  {
   "cell_type": "markdown",
   "metadata": {},
   "source": [
    "## Scatter plot"
   ]
  },
  {
   "cell_type": "markdown",
   "metadata": {},
   "source": [
    "## QQ - plot"
   ]
  },
  {
   "cell_type": "markdown",
   "metadata": {},
   "source": [
    "# Distributions"
   ]
  },
  {
   "cell_type": "markdown",
   "metadata": {},
   "source": [
    "\n",
    "Discrete distributions:\n",
    "- Binomial distribution\n",
    "- Hypergeometric distribution\n",
    "- Poisson distribution\n",
    "\n",
    "Contiunous distribution:\n",
    "- Uniform distribution\n",
    "- Normal Distribution\n",
    "- Exponential Distribtion"
   ]
  },
  {
   "cell_type": "markdown",
   "metadata": {},
   "source": [
    "## Binomial distribution"
   ]
  },
  {
   "cell_type": "markdown",
   "metadata": {},
   "source": [
    "### Binom PMF P(X = K)"
   ]
  },
  {
   "cell_type": "code",
   "execution_count": 3,
   "metadata": {},
   "outputs": [
    {
     "name": "stdout",
     "output_type": "stream",
     "text": [
      "P(X = 5) = 0.20065812479999992\n"
     ]
    }
   ],
   "source": [
    "# Parameters for the binomial distribution\n",
    "n = 10      # number of trials\n",
    "p = 0.6     # probability of success\n",
    "k = 5       # Testing Value\n",
    "\n",
    "# P(X = 5)\n",
    "retval_eq_k = stats.binom.pmf(k=k ,n=n, p=p)\n",
    "\n",
    "print(f\"P(X = {k}) = {retval_eq_k}\")"
   ]
  },
  {
   "cell_type": "markdown",
   "metadata": {},
   "source": [
    "### Binom CDF: P(X > k)"
   ]
  },
  {
   "cell_type": "code",
   "execution_count": 4,
   "metadata": {},
   "outputs": [
    {
     "name": "stdout",
     "output_type": "stream",
     "text": [
      "P(X > 4) = 0.8337613824\n"
     ]
    }
   ],
   "source": [
    "# Parameters for the binomial distribution\n",
    "n = 10       # number of trials\n",
    "p = 0.6      # probability of success\n",
    "k = 4        # Testing Value\n",
    "\n",
    "# P(X > k)\n",
    "retval_greater_than_k = 1 - stats.binom.cdf(k, n, p)  # CDF for k\n",
    "print(f\"P(X > {k}) = {retval_greater_than_k}\")"
   ]
  },
  {
   "cell_type": "markdown",
   "metadata": {},
   "source": [
    "### Binom CDF: P(X < k)"
   ]
  },
  {
   "cell_type": "code",
   "execution_count": 5,
   "metadata": {},
   "outputs": [
    {
     "name": "stdout",
     "output_type": "stream",
     "text": [
      "P(X < 5) = 0.16623861760000005\n"
     ]
    }
   ],
   "source": [
    "# Parameters for the binomial distribution\n",
    "n = 10       # number of trials\n",
    "p = 0.6      # probability of success\n",
    "k = 5        # Testing Value\n",
    "\n",
    "# P(X < 5) = P(X <= 4)\n",
    "retval_less_than_k = stats.binom.cdf(k - 1, n, p)  # CDF for k - 1'\n",
    "\n",
    "\n",
    "print(f\"P(X < {k}) = {retval_less_than_k}\")"
   ]
  },
  {
   "cell_type": "markdown",
   "metadata": {},
   "source": [
    "### Binon: Std & Mean"
   ]
  },
  {
   "cell_type": "code",
   "execution_count": null,
   "metadata": {},
   "outputs": [],
   "source": [
    "\n",
    "\n",
    "\n",
    "\n",
    "\n",
    "\n"
   ]
  },
  {
   "cell_type": "markdown",
   "metadata": {},
   "source": [
    "## Poisson distribution"
   ]
  },
  {
   "cell_type": "markdown",
   "metadata": {},
   "source": [
    "### Poisson PMF: P(X = k)"
   ]
  },
  {
   "cell_type": "code",
   "execution_count": 6,
   "metadata": {},
   "outputs": [
    {
     "name": "stdout",
     "output_type": "stream",
     "text": [
      "P(X = 2) = 0.22404180765538775\n"
     ]
    }
   ],
   "source": [
    "# Parameters for Poisson distribution\n",
    "lambda_val = 3  # mean (expected number of events)\n",
    "k = 2           # number of events we want the probability for\n",
    "\n",
    "# Calculate Poisson PMF\n",
    "poisson_pmf = stats.poisson.pmf(k, lambda_val)\n",
    "print(f\"P(X = {k}) = {poisson_pmf}\")\n"
   ]
  },
  {
   "cell_type": "markdown",
   "metadata": {},
   "source": [
    "### Poisson CDF: P(X < k)"
   ]
  },
  {
   "cell_type": "code",
   "execution_count": 7,
   "metadata": {},
   "outputs": [
    {
     "name": "stdout",
     "output_type": "stream",
     "text": [
      "P(X < 2) = 0.1991482734714558\n"
     ]
    }
   ],
   "source": [
    "# Parameters for Poisson distribution\n",
    "lambda_val = 3  # mean (expected number of events)\n",
    "k = 2           # upper limit of events for cumulative probability\n",
    "\n",
    "# Calculate Poisson CDF for P(X < k), which is actually P(X <= k-1)\n",
    "poisson_cdf = stats.poisson.cdf(k - 1, lambda_val)\n",
    "\n",
    "print(f\"P(X < {k}) = {poisson_cdf}\")"
   ]
  },
  {
   "cell_type": "markdown",
   "metadata": {},
   "source": [
    "### Poisson CDF: P(X > k)"
   ]
  },
  {
   "cell_type": "code",
   "execution_count": 8,
   "metadata": {},
   "outputs": [
    {
     "name": "stdout",
     "output_type": "stream",
     "text": [
      "P(X > 2) = 0.5768099188731564\n"
     ]
    }
   ],
   "source": [
    "\n",
    "# Parameters\n",
    "lambda_val = 3  # mean (expected number of events)\n",
    "k = 2           # lower limit of events for the \"greater than\" probability\n",
    "\n",
    "# Calculate Poisson CDF for P(X > k)\n",
    "poisson_prob_greater = 1 - stats.poisson.cdf(k, lambda_val)\n",
    "\n",
    "print(f\"P(X > {k}) = {poisson_prob_greater}\")"
   ]
  },
  {
   "metadata": {},
   "cell_type": "code",
   "outputs": [],
   "execution_count": null,
   "source": ""
  },
  {
   "metadata": {},
   "cell_type": "markdown",
   "source": [
    "### Exponential distribution\n",
    "    models the time between events in a Poisson process.\n",
    "    Formula:\n",
    "    \n",
    "$$\n",
    "    P(T > t) = e^{-\\lambda t}\n",
    "$$\n",
    "    \n",
    "    example below\n",
    "\n",
    "    "
   ]
  },
  {
   "metadata": {
    "ExecuteTime": {
     "end_time": "2024-11-24T12:23:31.156918Z",
     "start_time": "2024-11-24T12:23:31.154277Z"
    }
   },
   "cell_type": "code",
   "source": [
    "# example (ved ikke hvorfor det er lysserødt)\n",
    "# what is the probability that the time between 2 cars passing by is greater than 2 minutes\n",
    "lambda2 = 15 # per hour\n",
    "time = 2 # minutes\n",
    "lambdaPrMin = 15/60\n",
    "print(np.e**(-lambdaPrMin*time))"
   ],
   "outputs": [
    {
     "name": "stdout",
     "output_type": "stream",
     "text": [
      "0.6065306597126334\n"
     ]
    }
   ],
   "execution_count": 3
  },
  {
   "cell_type": "markdown",
   "metadata": {},
   "source": [
    "## Hypergeometric distribution"
   ]
  },
  {
   "cell_type": "markdown",
   "metadata": {},
   "source": [
    "### Hyper PMF: P(X = k)"
   ]
  },
  {
   "cell_type": "code",
   "execution_count": 9,
   "metadata": {},
   "outputs": [
    {
     "name": "stdout",
     "output_type": "stream",
     "text": [
      "P(X = 5) = 0.2401\n"
     ]
    }
   ],
   "source": [
    "# Parameters for the hypergeometric distribution\n",
    "N = 20       # Total population size\n",
    "K = 12       # Number of successes in the population\n",
    "n = 10       # Sample size\n",
    "k = 5        # Testing value for exactly 5 successes\n",
    "\n",
    "# P(X = k)\n",
    "retval_equal_to_k = stats.hypergeom.pmf(k, N, K, n)  # PMF for k\n",
    "print(f\"P(X = {k}) = {retval_equal_to_k:.4f}\")\n"
   ]
  },
  {
   "cell_type": "markdown",
   "metadata": {},
   "source": [
    "### Hyper CDF: P(X < k)"
   ]
  },
  {
   "cell_type": "code",
   "execution_count": 10,
   "metadata": {},
   "outputs": [
    {
     "name": "stdout",
     "output_type": "stream",
     "text": [
      "P(X < 5) = 0.0849\n"
     ]
    }
   ],
   "source": [
    "# Parameters for the hypergeometric distribution\n",
    "N = 20       # Total population size\n",
    "K = 12       # Number of successes in the population\n",
    "n = 10       # Sample size\n",
    "\n",
    "k = 5        # Testing threshold\n",
    "\n",
    "# P(X < 5) = P(X <= 4)\n",
    "retval_less_than_k = stats.hypergeom.cdf(k - 1, N, K, n)  # CDF for k - 1\n",
    "print(f\"P(X < {k}) = {retval_less_than_k:.4f}\")\n"
   ]
  },
  {
   "cell_type": "markdown",
   "metadata": {},
   "source": [
    "### Hyper CDF: P(X > k)"
   ]
  },
  {
   "cell_type": "code",
   "execution_count": 11,
   "metadata": {},
   "outputs": [
    {
     "name": "stdout",
     "output_type": "stream",
     "text": [
      "P(X > 5) = 0.6750\n"
     ]
    }
   ],
   "source": [
    "# Parameters for the hypergeometric distribution\n",
    "N = 20       # Total population size\n",
    "K = 12       # Number of successes in the population\n",
    "n = 10       # Sample size\n",
    "k = 5        # Testing threshold\n",
    "\n",
    "# P(X > k) = 1 - P(X <= k)\n",
    "retval_greater_than_k = 1 - stats.hypergeom.cdf(k, N, K, n)\n",
    "print(f\"P(X > {k}) = {retval_greater_than_k:.4f}\")"
   ]
  },
  {
   "cell_type": "markdown",
   "metadata": {},
   "source": [
    "## Normal distribution"
   ]
  },
  {
   "cell_type": "markdown",
   "metadata": {},
   "source": [
    "### Normal: P(X < k)"
   ]
  },
  {
   "cell_type": "code",
   "execution_count": 12,
   "metadata": {},
   "outputs": [
    {
     "name": "stdout",
     "output_type": "stream",
     "text": [
      "P(X < 1.5) = 0.9331927987311419\n"
     ]
    }
   ],
   "source": [
    "# Parameters\n",
    "mu = 0        # mean of the distribution\n",
    "sigma = 1     # standard deviation of the distribution\n",
    "k = 1.5       # value to calculate P(X < k)\n",
    "\n",
    "# Calculate Normal CDF for P(X < k)\n",
    "normal_cdf = stats.norm.cdf(k, mu, sigma)\n",
    "\n",
    "print(f\"P(X < {k}) = {normal_cdf}\")"
   ]
  },
  {
   "cell_type": "markdown",
   "metadata": {},
   "source": [
    "### Normal: P(X > k)"
   ]
  },
  {
   "cell_type": "code",
   "execution_count": 13,
   "metadata": {},
   "outputs": [
    {
     "name": "stdout",
     "output_type": "stream",
     "text": [
      "P(X > 1.5) = 0.06680720126885809\n"
     ]
    }
   ],
   "source": [
    "# Parameters\n",
    "mu = 0        # mean of the distribution\n",
    "sigma = 1     # standard deviation of the distribution\n",
    "k = 1.5       # value to calculate P(X > k)\n",
    "\n",
    "# Calculate Normal CDF for P(X > k)\n",
    "normal_prob_greater = 1 - stats.norm.cdf(k, mu, sigma)\n",
    "\n",
    "print(f\"P(X > {k}) = {normal_prob_greater}\")"
   ]
  },
  {
   "cell_type": "markdown",
   "metadata": {},
   "source": [
    "## Exponential Distribtion"
   ]
  },
  {
   "cell_type": "markdown",
   "metadata": {},
   "source": [
    "### Exponential: P(X < k)"
   ]
  },
  {
   "cell_type": "code",
   "execution_count": 14,
   "metadata": {},
   "outputs": [
    {
     "name": "stdout",
     "output_type": "stream",
     "text": [
      "P(X < 1.5) = 0.7768698398515702\n"
     ]
    }
   ],
   "source": [
    "from scipy.stats import expon\n",
    "\n",
    "# Parameters\n",
    "lambda_val = 1  # rate parameter of the distribution (1 / mean)\n",
    "k = 1.5         # value to calculate P(X < k)\n",
    "\n",
    "# Calculate Exponential CDF for P(X < k)\n",
    "expo_cdf = expon.cdf(k, scale=1/lambda_val)\n",
    "\n",
    "print(f\"P(X < {k}) = {expo_cdf}\")"
   ]
  },
  {
   "cell_type": "markdown",
   "metadata": {},
   "source": [
    "### Exponential: P(X > k)"
   ]
  },
  {
   "cell_type": "code",
   "execution_count": 15,
   "metadata": {},
   "outputs": [
    {
     "name": "stdout",
     "output_type": "stream",
     "text": [
      "P(X > 1.5) = 0.2231301601484298\n"
     ]
    }
   ],
   "source": [
    "# Parameters\n",
    "lambda_val = 1  # rate parameter of the distribution (1 / mean)\n",
    "k = 1.5         # value to calculate P(X > k)\n",
    "\n",
    "# Calculate Exponential CDF for P(X > k)\n",
    "expo_prob_greater = 1 - expon.cdf(k, scale=1/lambda_val)\n",
    "\n",
    "print(f\"P(X > {k}) = {expo_prob_greater}\")"
   ]
  },
  {
   "cell_type": "markdown",
   "metadata": {},
   "source": [
    "# Confidence Intervals"
   ]
  },
  {
   "cell_type": "markdown",
   "metadata": {},
   "source": [
    "## One Sample"
   ]
  },
  {
   "cell_type": "code",
   "metadata": {
    "ExecuteTime": {
     "end_time": "2024-11-26T12:16:22.772419Z",
     "start_time": "2024-11-26T12:16:22.769840Z"
    }
   },
   "source": [
    "n = 40 # normally distributed\n",
    "mean = 34.66\n",
    "std = 10.12\n",
    "fDegrees = n-1\n",
    "alpha = 0.01\n",
    "\n",
    "stError = std/np.sqrt(n) # 1.6\n",
    "critValue = stats.t.ppf((1-alpha+0.005),fDegrees) # +0.005 to account for the 1% being distributed on either side \n",
    "marginError = critValue * stError\n",
    "\n",
    "upBound = mean+marginError\n",
    "lowBound = mean-marginError\n",
    "\n",
    "print(f\"The confidence interval is {lowBound} to {upBound}\")\n",
    "\n",
    "# Sample data\n",
    "data = [12, 14, 15, 13, 12, 16, 14, 13]\n",
    "\n",
    "# Compute the mean and standard error\n",
    "mean = np.mean(data)\n",
    "std_err = stats.sem(data)  # Standard error of the mean\n",
    "\n",
    "# Confidence level (e.g., 95%)\n",
    "confidence = 0.95\n",
    "\n",
    "# Compute confidence interval\n",
    "ci = stats.t.interval(confidence, len(data)-1, loc=mean, scale=std_err)\n",
    "print(f\"Mean: {mean}\")\n",
    "print(f\"95% Confidence Interval: {ci}\")"
   ],
   "outputs": [
    {
     "name": "stdout",
     "output_type": "stream",
     "text": [
      "The confidence interval is 30.327034276847872 to 38.99296572315212\n"
     ]
    }
   ],
   "execution_count": 4
  },
  {
   "cell_type": "markdown",
   "metadata": {},
   "source": [
    "## Two Sample"
   ]
  },
  {
   "metadata": {
    "ExecuteTime": {
     "end_time": "2024-11-26T13:30:40.075010Z",
     "start_time": "2024-11-26T13:30:40.070133Z"
    }
   },
   "cell_type": "code",
   "source": [
    "\n",
    "# Sample data\n",
    "n1, n2 = 50, 60  # Sample sizes\n",
    "mean1, mean2 = 70, 65  # Sample means\n",
    "std1, std2 = 10, 12  # Sample standard deviations\n",
    "confidence = 0.95  # Confidence level\n",
    "\n",
    "# Degrees of freedom for unequal variances\n",
    "se = (std1 / n1**0.5) + (std2 / n2**0.5)  # Standard error\n",
    "v1 = (std1**2 / n1)\n",
    "v2 = (std2**2 / n2)\n",
    "df = (v1 + v2)**2 / ((v1**2 / (n1 - 1)) + (v2**2 / (n2 - 1)))\n",
    "\n",
    "# Critical t-value for two-tailed test\n",
    "t_critical = stats.t.ppf((1 + confidence) / 2, df)\n",
    "\n",
    "# Confidence interval\n",
    "margin_of_error = t_critical * se\n",
    "ci_lower = (mean1 - mean2) - margin_of_error\n",
    "ci_upper = (mean1 - mean2) + margin_of_error\n",
    "\n",
    "print(f\"Confidence Interval: ({ci_lower:.2f}, {ci_upper:.2f})\")\n"
   ],
   "outputs": [
    {
     "name": "stdout",
     "output_type": "stream",
     "text": [
      "107.99969126273542\n",
      "Confidence Interval: (-0.87, 10.87)\n",
      "Degrees of Freedom: 15.99\n",
      "Mean Difference: 2.01\n",
      "Confidence Interval: (0.59, 3.42)\n"
     ]
    }
   ],
   "execution_count": 30
  },
  {
   "metadata": {},
   "cell_type": "markdown",
   "source": [
    "# Hypothesis testing\n",
    "\n"
   ]
  },
  {
   "metadata": {},
   "cell_type": "markdown",
   "source": "## One sample"
  },
  {
   "metadata": {
    "ExecuteTime": {
     "end_time": "2024-11-26T12:36:48.768112Z",
     "start_time": "2024-11-26T12:36:48.763950Z"
    }
   },
   "cell_type": "code",
   "source": [
    "# Example data\n",
    "data = [12, 14, 15, 13, 12, 16, 14, 13]\n",
    "\n",
    "# Null hypothesis mean (e.g., µ0)\n",
    "mu_0 = 13\n",
    "\n",
    "# Perform a one-sample t-test\n",
    "t_stat, p_value = stats.ttest_1samp(data, mu_0)\n",
    "\n",
    "# Two-sided p-value\n",
    "print(f\"T-Statistic: {t_stat}\")\n",
    "print(f\"P-Value: {p_value}\")"
   ],
   "outputs": [
    {
     "name": "stdout",
     "output_type": "stream",
     "text": [
      "T-Statistic: 1.2556180058348068\n",
      "P-Value: 0.24954202298281294\n"
     ]
    }
   ],
   "execution_count": 7
  },
  {
   "metadata": {
    "ExecuteTime": {
     "end_time": "2024-11-26T12:51:46.570447Z",
     "start_time": "2024-11-26T12:51:46.567110Z"
    }
   },
   "cell_type": "code",
   "source": [
    "# Uden dataset\n",
    "n = 40 # normally distributed\n",
    "mean = 34.66\n",
    "std = 10.12\n",
    "mu_0 = 30 # alternative hypothesis mean\n",
    "\n",
    "# Compute t-statistic\n",
    "t_stat = (mean - mu_0) / (std / (n**0.5))\n",
    "\n",
    "# Degrees of freedom\n",
    "df = n - 1\n",
    "\n",
    "# Compute two-sided p-value\n",
    "p_value = 2 * (1 - stats.t.cdf(abs(t_stat), df))\n",
    "\n",
    "print(f\"T-Statistic: {t_stat}\")\n",
    "print(f\"P-Value: {p_value}\")"
   ],
   "outputs": [
    {
     "name": "stdout",
     "output_type": "stream",
     "text": [
      "T-Statistic: 2.9122952364396517\n",
      "P-Value: 0.005907860670444637\n"
     ]
    }
   ],
   "execution_count": 14
  },
  {
   "cell_type": "markdown",
   "metadata": {},
   "source": [
    "# Linear Regression"
   ]
  },
  {
   "cell_type": "markdown",
   "metadata": {},
   "source": [
    "## Simple Linear Regression"
   ]
  },
  {
   "cell_type": "code",
   "execution_count": 16,
   "metadata": {},
   "outputs": [
    {
     "name": "stdout",
     "output_type": "stream",
     "text": [
      "     x      y\n",
      "0  168   65.5\n",
      "1  161   58.3\n",
      "2  167   68.1\n",
      "3  179   85.7\n",
      "4  184   80.5\n",
      "5  166   63.4\n",
      "6  198  102.6\n",
      "7  187   91.4\n",
      "8  191   86.7\n",
      "9  179   78.9\n"
     ]
    }
   ],
   "source": [
    "x = np.array([168, 161, 167, 179, 184, 166, 198, 187, 191, 179])             # height data\n",
    "y = np.array([65.5, 58.3, 68.1, 85.7, 80.5, 63.4, 102.6, 91.4, 86.7, 78.9])  # weight data\n",
    "\n",
    "student = pd.DataFrame({'x': x, 'y': y})  # \"import pandas as pd\"\n",
    "print(student)\n",
    "\n",
    "fitStudents = smf.ols(formula = 'y ~ x', data=student).fit()\n",
    "\n"
   ]
  },
  {
   "cell_type": "markdown",
   "metadata": {},
   "source": [
    "### Model Creation"
   ]
  },
  {
   "cell_type": "code",
   "execution_count": 17,
   "metadata": {},
   "outputs": [
    {
     "name": "stdout",
     "output_type": "stream",
     "text": [
      "                            OLS Regression Results                            \n",
      "==============================================================================\n",
      "Dep. Variable:                      y   R-squared:                       0.999\n",
      "Model:                            OLS   Adj. R-squared:                  0.999\n",
      "No. Observations:                  10   F-statistic:                 1.074e+04\n",
      "Covariance Type:            nonrobust   Prob (F-statistic):           8.40e-14\n",
      "==============================================================================\n",
      "                 coef    std err          t      P>|t|      [0.025      0.975]\n",
      "------------------------------------------------------------------------------\n",
      "Intercept      0.0121      0.032      0.383      0.712      -0.061       0.085\n",
      "x              1.1776      0.011    103.622      0.000       1.151       1.204\n",
      "==============================================================================\n",
      "\n",
      "Notes:\n",
      "[1] Standard Errors assume that the covariance matrix of the errors is correctly specified.\n"
     ]
    },
    {
     "name": "stderr",
     "output_type": "stream",
     "text": [
      "c:\\Users\\tobia\\anaconda3\\Lib\\site-packages\\scipy\\stats\\_stats_py.py:1806: UserWarning: kurtosistest only valid for n>=20 ... continuing anyway, n=10\n",
      "  warnings.warn(\"kurtosistest only valid for n>=20 ... continuing \"\n"
     ]
    }
   ],
   "source": [
    "# data x\n",
    "x = np.array([1.46,1.66,1.87,2.11,2.37,2.67,2.94,3.31,3.72,4.24])\n",
    "\n",
    "# data to be predicted\n",
    "y = np.array([1.76,1.96,2.24,2.46,2.80,3.11,3.46,3.95,4.42,4.99])\n",
    "\n",
    "fit = smf.ols('y ~ x', data=pd.DataFrame({'x':x, 'y':y})).fit()\n",
    "print(fit.summary(slim=True))\n"
   ]
  },
  {
   "cell_type": "markdown",
   "metadata": {},
   "source": [
    "### Confidence Interval:"
   ]
  },
  {
   "cell_type": "code",
   "execution_count": null,
   "metadata": {},
   "outputs": [
    {
     "name": "stdout",
     "output_type": "stream",
     "text": [
      "Confidence Intervals for Regression Coefficients beta_0 and beta_1\n",
      "\n",
      "99% Confidence Interval:\n",
      "          Lower Bound Upper Bound\n",
      "Intercept   -0.093742    0.117876\n",
      "x            1.139452    1.215715\n",
      "\n",
      "95% Confidence Interval:\n",
      "          Lower Bound Upper Bound\n",
      "Intercept   -0.060651    0.084785\n",
      "x            1.151378    1.203790\n",
      "\n",
      "90% Confidence Interval:\n",
      "          Lower Bound Upper Bound\n",
      "Intercept   -0.046572    0.070706\n",
      "x            1.156451    1.198716\n"
     ]
    }
   ],
   "source": [
    "conf_interval_99 = fit.conf_int(alpha=0.01)\n",
    "conf_interval_95 = fit.conf_int(alpha=0.05)\n",
    "conf_interval_90 = fit.conf_int(alpha=0.10)\n",
    "\n",
    "# Format and display results\n",
    "print(\"Confidence Intervals for Regression Coefficients beta_0 and beta_1\\n\")\n",
    "print(\"99% Confidence Interval:\")\n",
    "print(conf_interval_99.to_string(header=[\"Lower Bound\", \"Upper Bound\"], index=[\"Intercept (b0)\", \"Slope (b1)\"]))\n",
    "print(\"\\n95% Confidence Interval:\")\n",
    "print(conf_interval_95.to_string(header=[\"Lower Bound\", \"Upper Bound\"], index=[\"Intercept (b0)\", \"Slope (b1)\"]))\n",
    "print(\"\\n90% Confidence Interval:\")\n",
    "print(conf_interval_90.to_string(header=[\"Lower Bound\", \"Upper Bound\"], index=[\"Intercept (b0)\", \"Slope (b1)\"]))"
   ]
  },
  {
   "cell_type": "markdown",
   "metadata": {},
   "source": [
    "### Prediction Interval:"
   ]
  },
  {
   "cell_type": "code",
   "execution_count": 19,
   "metadata": {},
   "outputs": [
    {
     "name": "stdout",
     "output_type": "stream",
     "text": [
      "99% Prediction Interval for x = 2.5:\n",
      "       mean  obs_ci_lower  obs_ci_upper\n",
      "0  2.956026      2.845905      3.066148\n",
      "\n",
      "95% Prediction Interval for x = 2.5:\n",
      "       mean  obs_ci_lower  obs_ci_upper\n",
      "0  2.956026      2.880345      3.031708\n",
      "\n",
      "90% Prediction Interval for x = 2.5:\n",
      "       mean  obs_ci_lower  obs_ci_upper\n",
      "0  2.956026      2.894997      3.017055\n"
     ]
    }
   ],
   "source": [
    "x = 2.5\n",
    "\n",
    "new_x = pd.DataFrame({'x': [x]})\n",
    "\n",
    "# Get 99% prediction intervals for these values\n",
    "prediction_99 = fit.get_prediction(new_x).summary_frame(alpha=0.01)\n",
    "# Get 95% prediction interval\n",
    "prediction_95 = fit.get_prediction(new_x).summary_frame(alpha=0.05)\n",
    "# Get 90% prediction interval\n",
    "prediction_90 = fit.get_prediction(new_x).summary_frame(alpha=0.10)\n",
    "\n",
    "\n",
    "# Print each prediction interval\n",
    "print(\"99% Prediction Interval for x = 2.5:\")\n",
    "print(prediction_99[['mean', 'obs_ci_lower', 'obs_ci_upper']])\n",
    "\n",
    "print(\"\\n95% Prediction Interval for x = 2.5:\")\n",
    "print(prediction_95[['mean', 'obs_ci_lower', 'obs_ci_upper']])\n",
    "\n",
    "print(\"\\n90% Prediction Interval for x = 2.5:\")\n",
    "print(prediction_90[['mean', 'obs_ci_lower', 'obs_ci_upper']])\n"
   ]
  },
  {
   "cell_type": "markdown",
   "metadata": {},
   "source": [
    "### Residuals:"
   ]
  },
  {
   "cell_type": "code",
   "execution_count": 20,
   "metadata": {},
   "outputs": [
    {
     "name": "stdout",
     "output_type": "stream",
     "text": [
      "Residuals:\n",
      "0    0.028661\n",
      "1   -0.006856\n",
      "2    0.025851\n",
      "3   -0.036769\n",
      "4   -0.002940\n",
      "5   -0.046215\n",
      "6   -0.014163\n",
      "7    0.040131\n",
      "8    0.027322\n",
      "9   -0.015022\n",
      "dtype: float64\n"
     ]
    },
    {
     "data": {
      "image/png": "[encoded data removed]",
      "text/plain": [
       "<Figure size 1500x600 with 2 Axes>"
      ]
     },
     "metadata": {},
     "output_type": "display_data"
    }
   ],
   "source": [
    "residuals = fit.resid\n",
    "\n",
    "print(\"Residuals:\")\n",
    "print(residuals)\n",
    "\n",
    "fig, axs = plt.subplots(1, 2, figsize=(15, 6))\n",
    "\n",
    "# Plot residuals against the fitted values\n",
    "axs[0].scatter(fit.fittedvalues, residuals, color='blue', s=100, alpha=0.7, edgecolor='k', label='Residuals')\n",
    "axs[0].axhline(0, color='red', linestyle='--', linewidth=2, label='Zero Line')\n",
    "axs[0].set_xlabel(\"Fitted Values\", fontsize=14)\n",
    "axs[0].set_ylabel(\"Residuals\", fontsize=14)\n",
    "axs[0].set_title(\"Residual Plot\", fontsize=16)\n",
    "axs[0].legend()\n",
    "axs[0].grid()\n",
    "\n",
    "# Q-Q plot\n",
    "stats.probplot(residuals, dist=\"norm\", plot=axs[1])\n",
    "axs[1].set_title(\"Q-Q Plot of Residuals\", fontsize=16)\n",
    "axs[1].set_xlabel(\"Theoretical Quantiles\", fontsize=14)\n",
    "axs[1].set_ylabel(\"Sample Quantiles\", fontsize=14)\n",
    "axs[1].grid()\n",
    "\n",
    "# Adjust layout\n",
    "plt.tight_layout()\n",
    "plt.show()\n",
    "plt.show()"
   ]
  },
  {
   "cell_type": "code",
   "execution_count": null,
   "metadata": {},
   "outputs": [],
   "source": []
  }
 ],
 "metadata": {
  "kernelspec": {
   "display_name": "base",
   "language": "python",
   "name": "python3"
  },
  "language_info": {
   "codemirror_mode": {
    "name": "ipython",
    "version": 3
   },
   "file_extension": ".py",
   "mimetype": "text/x-python",
   "name": "python",
   "nbconvert_exporter": "python",
   "pygments_lexer": "ipython3",
   "version": "3.11.7"
  }
 },
 "nbformat": 4,
 "nbformat_minor": 2
}
