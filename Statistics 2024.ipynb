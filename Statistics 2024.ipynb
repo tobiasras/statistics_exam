{
 "cells": [
  {
   "cell_type": "code",
   "execution_count": 2,
   "metadata": {},
   "outputs": [],
   "source": [
    "import numpy as np\n",
    "import matplotlib.pyplot as plt \n",
    "import pandas as pd\n",
    "import scipy.stats as stats\n",
    "import statsmodels.formula.api as smf\n",
    "import statsmodels.api as sm"
   ]
  },
  {
   "cell_type": "markdown",
   "metadata": {},
   "source": [
    "# Plots"
   ]
  },
  {
   "cell_type": "markdown",
   "metadata": {},
   "source": [
    "## Box plot"
   ]
  },
  {
   "cell_type": "markdown",
   "metadata": {},
   "source": [
    "## Scatter plot"
   ]
  },
  {
   "cell_type": "markdown",
   "metadata": {},
   "source": [
    "## QQ - plot"
   ]
  },
  {
   "cell_type": "markdown",
   "metadata": {},
   "source": [
    "# Distributions"
   ]
  },
  {
   "cell_type": "markdown",
   "metadata": {},
   "source": [
    "\n",
    "Discrete distributions:\n",
    "- Binomial distribution\n",
    "- Hypergeometric distribution\n",
    "- Poisson distribution\n",
    "\n",
    "Contiunous distribution:\n",
    "- Uniform distribution\n",
    "- Normal Distribution\n",
    "- Exponential Distribtion"
   ]
  },
  {
   "cell_type": "markdown",
   "metadata": {},
   "source": [
    "## Binomial distribution\n",
    "1. **Mean (Expected Value):** $\\mathbb{E}[X] = n \\cdot p$\n",
    "2. **Variance:** $\\text{Var}(X) = n \\cdot p \\cdot (1 - p)$\n",
    "3. **Standard Deviation:** $\\sigma = \\sqrt{n \\cdot p \\cdot (1 - p)}$"
   ]
  },
  {
   "cell_type": "markdown",
   "metadata": {},
   "source": [
    "### Binom PMF P(X = K)"
   ]
  },
  {
   "cell_type": "code",
   "execution_count": null,
   "metadata": {},
   "outputs": [],
   "source": [
    "# Parameters for the binomial distribution\n",
    "n = 10      # number of trials\n",
    "p = 0.6     # probability of success\n",
    "k = 5       # Testing Value\n",
    "\n",
    "# P(X = 5)\n",
    "retval_eq_k = stats.binom.pmf(k=k ,n=n, p=p)\n",
    "\n",
    "# Print result\n",
    "print(f\"P(X = {k}) = {retval_eq_k}\")\n",
    "\n",
    "# Get mean and variance\n",
    "mean, var = stats.binom.stats(n=n, p=p)\n",
    "print(f\"Mean: {mean}\")\n",
    "print(f\"Variance: {var}\")"
   ]
  },
  {
   "cell_type": "markdown",
   "metadata": {},
   "source": [
    "### Binom CDF: P(X > k)"
   ]
  },
  {
   "cell_type": "code",
   "execution_count": null,
   "metadata": {},
   "outputs": [],
   "source": [
    "# Parameters for the binomial distribution\n",
    "n = 10       # number of trials\n",
    "p = 0.6      # probability of success\n",
    "k = 4        # Testing Value\n",
    "\n",
    "# P(X > k)\n",
    "retval_greater_than_k = 1 - stats.binom.cdf(k, n, p)  # CDF for k\n",
    "# Print result\n",
    "print(f\"P(X > {k}) = {retval_greater_than_k}\")\n",
    "\n",
    "# Get mean and variance\n",
    "mean, var = stats.binom.stats(n=n, p=p)\n",
    "print(f\"Mean: {mean}\")\n",
    "print(f\"Variance: {var}\")"
   ]
  },
  {
   "cell_type": "markdown",
   "metadata": {},
   "source": [
    "### Binom CDF: P(X < k)"
   ]
  },
  {
   "cell_type": "code",
   "execution_count": null,
   "metadata": {},
   "outputs": [],
   "source": [
    "# Parameters for the binomial distribution\n",
    "n = 10       # number of trials\n",
    "p = 0.6      # probability of success\n",
    "k = 5        # Testing Value\n",
    "\n",
    "# P(X < 5) = P(X <= 4)\n",
    "retval_less_than_k = stats.binom.cdf(k - 1, n, p)  # CDF for k - 1'\n",
    "print(f\"P(X < {k}) = {retval_less_than_k}\")\n",
    "\n",
    "# Get mean and variance\n",
    "mean, var = stats.binom.stats(n=n, p=p)\n",
    "print(f\"Mean: {mean}\")\n",
    "print(f\"Variance: {var}\")"
   ]
  },
  {
   "cell_type": "markdown",
   "metadata": {},
   "source": [
    "## Poisson distribution\n",
    "1. **Mean (Expected Value):** $ \\mathbb{E}[X] = \\lambda $\n",
    "2. **Variance:** $ \\text{Var}(X) = \\lambda $\n",
    "3. **Standard Deviation:** $ \\sigma = \\sqrt{\\lambda} $\n",
    "\n",
    "\n",
    "### Connection Between Poisson and Exponential Distributions\n",
    "\n",
    "The **Poisson** and **Exponential** distributions are closely related as they both arise from **Poisson processes**, which model events occurring randomly over time or space.\n",
    "\n",
    "#### 1. Connection\n",
    "- The **Poisson distribution** models the **number of events** that occur in a fixed interval of time or space, given a constant rate \\( \\lambda \\).\n",
    "- The **Exponential distribution** models the **time between consecutive events** in a Poisson process, also with rate \\( \\lambda \\).\n",
    "- Key Relationship:\n",
    "  - If events follow a Poisson process:\n",
    "    - The count of events in an interval is Poisson distributed.\n",
    "    - The time until the next event (or between events) is exponentially distributed.\n",
    "\n",
    "#### 2. When to Use Poisson\n",
    "Use the Poisson distribution when you need to calculate the **probability of a specific number of events** occurring in a fixed interval. Examples include:\n",
    "- The number of calls received by a call center in an hour.\n",
    "- The number of accidents occurring on a highway in a day.\n",
    "\n",
    "#### 3. When to Use Exponential\n",
    "Use the Exponential distribution when you want to model the **time between events** in a Poisson process. Examples include:\n",
    "- The time until the next customer arrives at a service desk.\n",
    "- The time between failures of a machine."
   ]
  },
  {
   "cell_type": "markdown",
   "metadata": {},
   "source": [
    "### Poisson PMF: P(X = k)"
   ]
  },
  {
   "cell_type": "code",
   "execution_count": null,
   "metadata": {},
   "outputs": [
    {
     "name": "stdout",
     "output_type": "stream",
     "text": [
      "1.0\n",
      "P(X = 10) = 0.00021572518449585165\n"
     ]
    }
   ],
   "source": [
    "# Parameters for Poisson distribution\n",
    "lambda_val = 10/4  # mean (expected number of events)\n",
    "\n",
    "k = 10           # number of events we want the probability for\n",
    "\n",
    "# Calculate Poisson PMF\n",
    "poisson_pmf = stats.poisson.pmf(k, lambda_val)\n",
    "print(f\"P(X = {k}) = {poisson_pmf}\")"
   ]
  },
  {
   "cell_type": "markdown",
   "metadata": {},
   "source": [
    "### Poisson CDF: P(X < k)"
   ]
  },
  {
   "cell_type": "code",
   "execution_count": null,
   "metadata": {},
   "outputs": [],
   "source": [
    "# Parameters for Poisson distribution\n",
    "lambda_val = 15/6  # mean (expected number of events)\n",
    "k = 2           # upper limit of events for cumulative probability\n",
    "\n",
    "# Calculate Poisson CDF for P(X < k), which is actually P(X <= k-1)\n",
    "poisson_cdf = stats.poisson.cdf(k - 1, lambda_val)\n",
    "\n",
    "print(f\"P(X < {k}) = {poisson_cdf}\")\n"
   ]
  },
  {
   "cell_type": "markdown",
   "metadata": {},
   "source": [
    "### Poisson CDF: P(X > k)"
   ]
  },
  {
   "cell_type": "code",
   "execution_count": null,
   "metadata": {},
   "outputs": [],
   "source": [
    "\n",
    "# Parameters\n",
    "lambda_val = 15/6  # mean (expected number of events)\n",
    "k = 2           # lower limit of events for the \"greater than\" probability\n",
    "\n",
    "# Calculate Poisson CDF for P(X > k)\n",
    "poisson_prob_greater = 1 - stats.poisson.cdf(k, lambda_val)\n",
    "\n",
    "print(f\"P(X > {k}) = {poisson_prob_greater}\")"
   ]
  },
  {
   "cell_type": "markdown",
   "metadata": {},
   "source": [
    "## Hypergeometric distribution\n",
    "\n",
    "Let $X \\sim \\text{Hypergeometric}(N, K, n)$, where:\n",
    "- $N$ is the population size,\n",
    "- $K$ is the number of successes in the population,\n",
    "- $n$ is the number of draws.\n",
    "\n",
    "1. **Mean (Expected Value):** $\\mathbb{E}[X] = n \\cdot \\frac{K}{N}$\n",
    "\n",
    "\n",
    "2. **Variance:** $\\text{Var}(X) = n \\cdot \\frac{K}{N} \\cdot \\frac{N - K}{N} \\cdot \\frac{N - n}{N - 1}$\n",
    "\n",
    "\n",
    "3. **Standard Deviation:** $\\sigma = \\sqrt{n \\cdot \\frac{K}{N} \\cdot \\frac{N - K}{N} \\cdot \\frac{N - n}{N - 1}}$"
   ]
  },
  {
   "cell_type": "markdown",
   "metadata": {},
   "source": [
    "### Hyper PMF: P(X = k)"
   ]
  },
  {
   "cell_type": "code",
   "execution_count": null,
   "metadata": {},
   "outputs": [],
   "source": [
    "# Parameters for the hypergeometric distribution\n",
    "N = 20       # Total population size\n",
    "K = 12       # Number of successes in the population\n",
    "n = 10       # Sample size\n",
    "k = 5        # Testing value for exactly 5 successes\n",
    "\n",
    "# P(X = k)\n",
    "retval_equal_to_k = stats.hypergeom.pmf(k, N, K, n)  # PMF for k\n",
    "print(f\"P(X = {k}) = {retval_equal_to_k:.4f}\")\n",
    "\n",
    "mean, var = stats.hypergeom.stats(N, K, n)\n",
    "print(f\"Mean: {mean}\")\n",
    "print(f\"Variance: {var}\")"
   ]
  },
  {
   "cell_type": "markdown",
   "metadata": {},
   "source": [
    "### Hyper CDF: P(X < k)"
   ]
  },
  {
   "cell_type": "code",
   "execution_count": null,
   "metadata": {},
   "outputs": [],
   "source": [
    "# Parameters for the hypergeometric distribution\n",
    "N = 20       # Total population size\n",
    "K = 12       # Number of successes in the population\n",
    "n = 10       # Sample size\n",
    "\n",
    "k = 5        # Testing threshold\n",
    "\n",
    "# P(X < 5) = P(X <= 4)\n",
    "retval_less_than_k = stats.hypergeom.cdf(k - 1, N, K, n)  # CDF for k - 1\n",
    "print(f\"P(X < {k}) = {retval_less_than_k:.4f}\")\n",
    "\n",
    "\n",
    "mean, var = stats.hypergeom.stats(N, K, n)\n",
    "print(f\"Mean: {mean}\")\n",
    "print(f\"Variance: {var}\")"
   ]
  },
  {
   "cell_type": "markdown",
   "metadata": {},
   "source": [
    "### Hyper CDF: P(X > k)"
   ]
  },
  {
   "cell_type": "code",
   "execution_count": null,
   "metadata": {},
   "outputs": [],
   "source": [
    "# Parameters for the hypergeometric distribution\n",
    "N = 20       # Total population size\n",
    "K = 12       # Number of successes in the population\n",
    "n = 10       # Sample size\n",
    "k = 5        # Testing threshold\n",
    "\n",
    "# P(X > k) = 1 - P(X <= k)\n",
    "retval_greater_than_k = 1 - stats.hypergeom.cdf(k, N, K, n)\n",
    "print(f\"P(X > {k}) = {retval_greater_than_k:.4f}\")\n",
    "\n",
    "mean, var = stats.hypergeom.stats(N, K, n)\n",
    "print(f\"Mean: {mean}\")\n",
    "print(f\"Variance: {var}\")"
   ]
  },
  {
   "cell_type": "markdown",
   "metadata": {},
   "source": [
    "## Uniform Distrubution\n",
    "1. **Mean (Expected Value):**  $\\mathbb{E}[X] = \\frac{a + b}{2}$\n",
    "2. **Variance:**  $\\text{Var}(X) = \\frac{(b - a)^2}{12}$\n",
    "3. **Standard Deviation:**  $\\sigma = \\frac{b - a}{\\sqrt{12}}$\n"
   ]
  },
  {
   "cell_type": "markdown",
   "metadata": {},
   "source": [
    "### Uniform: P(X < k)"
   ]
  },
  {
   "cell_type": "code",
   "execution_count": null,
   "metadata": {},
   "outputs": [],
   "source": [
    "from scipy.stats import uniform\n",
    "\n",
    "# Parameters\n",
    "a = 0        # Lower bound of the distribution\n",
    "b = 10       # Upper bound of the distribution\n",
    "k = 6        # Value to calculate P(X < k)\n",
    "\n",
    "# Calculate Uniform CDF for P(X < k)\n",
    "uniform_cdf = uniform.cdf(k, loc=a, scale=b - a)\n",
    "\n",
    "print(f\"P(X < {k}) = {uniform_cdf}\")\n",
    "\n",
    "# Calculate mean and variance\n",
    "mean, var = uniform.stats(loc=a, scale=b - a, moments='mv')\n",
    "print(f\"Mean: {mean}\")\n",
    "print(f\"Variance: {var}\")"
   ]
  },
  {
   "cell_type": "markdown",
   "metadata": {},
   "source": [
    "### Uniform: P(X > k)"
   ]
  },
  {
   "cell_type": "code",
   "execution_count": null,
   "metadata": {},
   "outputs": [],
   "source": [
    "from scipy.stats import uniform\n",
    "\n",
    "# Parameters\n",
    "a = 0        # Lower bound of the distribution\n",
    "b = 10       # Upper bound of the distribution\n",
    "k = 6        # Value to calculate P(X > k)\n",
    "\n",
    "# Calculate Uniform CDF for P(X < k)\n",
    "uniform_cdf = uniform.cdf(k, loc=a, scale=b - a)\n",
    "\n",
    "# Calculate P(X > k)\n",
    "uniform_sf = 1 - uniform_cdf  # Alternatively, use survival function: uniform.sf(k, loc=a, scale=b - a)\n",
    "\n",
    "print(f\"P(X > {k}) = {uniform_sf}\")\n",
    "\n",
    "# Calculate mean and variance\n",
    "mean, var = uniform.stats(loc=a, scale=b - a, moments='mv')\n",
    "print(f\"Mean: {mean}\")\n",
    "print(f\"Variance: {var}\")"
   ]
  },
  {
   "cell_type": "markdown",
   "metadata": {},
   "source": [
    "## Normal distribution\n",
    "\n",
    "1. **Mean (Expected Value):** $ \\mathbb{E}[X] = \\mu $\n",
    "2. **Variance:** $ \\text{Var}(X) = \\sigma^2 $\n",
    "3. **Standard Deviation:** $ \\sigma = \\sqrt{\\sigma^2} $\n"
   ]
  },
  {
   "cell_type": "markdown",
   "metadata": {},
   "source": [
    "### Normal: P(X < k)"
   ]
  },
  {
   "cell_type": "code",
   "execution_count": null,
   "metadata": {},
   "outputs": [],
   "source": [
    "# Parameters\n",
    "mu = 0        # mean of the distribution\n",
    "sigma = 1     # standard deviation of the distribution\n",
    "k = 1.5       # value to calculate P(X < k)\n",
    "\n",
    "# Calculate Normal CDF for P(X < k)\n",
    "normal_cdf = stats.norm.cdf(k, mu, sigma)\n",
    "\n",
    "print(f\"P(X < {k}) = {normal_cdf}\")\n",
    "\n",
    "# Calculate mean and variance\n",
    "mean, var = stats.norm.stats(loc=mu, scale=sigma)\n",
    "print(f\"Mean: {mean}\")\n",
    "print(f\"Variance: {var}\")\n",
    "\n"
   ]
  },
  {
   "cell_type": "markdown",
   "metadata": {},
   "source": [
    "### Normal: P(X > k)"
   ]
  },
  {
   "cell_type": "code",
   "execution_count": null,
   "metadata": {},
   "outputs": [],
   "source": [
    "# Parameters\n",
    "mu = 0        # mean of the distribution\n",
    "sigma = 1     # standard deviation of the distribution\n",
    "k = 1.5       # value to calculate P(X > k)\n",
    "\n",
    "# Calculate Normal CDF for P(X > k)\n",
    "normal_prob_greater = 1 - stats.norm.cdf(k, mu, sigma)\n",
    "\n",
    "print(f\"P(X > {k}) = {normal_prob_greater}\")\n",
    "\n",
    "\n",
    "# Calculate mean and variance\n",
    "mean, var = stats.norm.stats(loc=mu, scale=sigma)\n",
    "\n",
    "print(f\"Mean: {mean}\")\n",
    "print(f\"Variance: {var}\")"
   ]
  },
  {
   "cell_type": "markdown",
   "metadata": {},
   "source": [
    "## Exponential Distribtion\n",
    "\n",
    "1. **Mean (Expected Value):** $ \\mathbb{E}[X] = \\frac{1}{\\lambda} $\n",
    "2. **Variance:** $ \\text{Var}(X) = \\frac{1}{\\lambda^2} $\n",
    "3. **Standard Deviation:** $ \\sigma = \\frac{1}{\\lambda} $"
   ]
  },
  {
   "cell_type": "markdown",
   "metadata": {},
   "source": [
    "### Exponential: P(X < k)"
   ]
  },
  {
   "cell_type": "code",
   "execution_count": 56,
   "metadata": {},
   "outputs": [
    {
     "name": "stdout",
     "output_type": "stream",
     "text": [
      "P(X < 2) = 0.3934693402873666\n",
      "Mean: 4.0\n",
      "Variance: 16.0\n"
     ]
    }
   ],
   "source": [
    "# Parameters\n",
    "lambda_val = 15/60\n",
    "rate_param = 1 / lambda_val\n",
    "\n",
    "k = 2\n",
    "\n",
    "# Calculate Exponential CDF for P(X < k)\n",
    "expo_cdf = stats.expon.cdf(k, scale=rate_param)\n",
    "\n",
    "print(f\"P(X < {k}) = {expo_cdf}\")\n",
    "\n",
    "# Calculate mean and variance\n",
    "mean, var = stats.expon.stats(scale=rate_param)\n",
    "print(f\"Mean: {mean}\")\n",
    "print(f\"Variance: {var}\")"
   ]
  },
  {
   "cell_type": "markdown",
   "metadata": {},
   "source": [
    "### Exponential: P(X > k)\n"
   ]
  },
  {
   "cell_type": "code",
   "execution_count": 59,
   "metadata": {},
   "outputs": [
    {
     "name": "stdout",
     "output_type": "stream",
     "text": [
      "P(X > 2) = 0.6065306597126334\n",
      "Mean: 4.0\n",
      "Variance: 16.0\n"
     ]
    }
   ],
   "source": [
    "# Parameters\n",
    "lambda_val = 15/60\n",
    "rate_param = 1 /lambda_val\n",
    "\n",
    "k = 2\n",
    "\n",
    "# Calculate Exponential CDF for P(X > k)\n",
    "expo_prob_greater = 1 - stats.expon.cdf(k, scale=rate_param)\n",
    "\n",
    "print(f\"P(X > {k}) = {expo_prob_greater}\")\n",
    "\n",
    "# Calculate mean and variance\n",
    "mean, var = stats.expon.stats(scale=rate_param)\n",
    "print(f\"Mean: {mean}\")\n",
    "print(f\"Variance: {var}\")"
   ]
  },
  {
   "cell_type": "markdown",
   "metadata": {},
   "source": [
    "## Log-Normal Distribution\n",
    "\n",
    "1. **Mean (Expected Value):**  $ \\mathbb{E}[X] = e^{\\mu + \\frac{\\sigma^2}{2}} $\n",
    "2. **Variance:**  $ \\text{Var}(X) = \\left(e^{\\sigma^2} - 1\\right) e^{2\\mu + \\sigma^2} $\n",
    "3. **Standard Deviation:**   $ \\sigma_X = \\sqrt{\\text{Var}(X)} = \\sqrt{\\left(e^{\\sigma^2} - 1\\right) e^{2\\mu + \\sigma^2}} $"
   ]
  },
  {
   "cell_type": "markdown",
   "metadata": {},
   "source": [
    "### log-normal: P(X > k)"
   ]
  },
  {
   "cell_type": "code",
   "execution_count": 28,
   "metadata": {},
   "outputs": [
    {
     "name": "stdout",
     "output_type": "stream",
     "text": [
      "P(X > 2) = 0.21988291048777586\n",
      "Mean: 1.7010573018484005\n",
      "Variance: 0.18662090474626997\n"
     ]
    }
   ],
   "source": [
    "import scipy.stats as stats\n",
    "import numpy as np\n",
    "\n",
    "# Parameters\n",
    "mu = 0.5  # Mean of the underlying normal distribution\n",
    "sigma = 0.25  # Standard deviation of the underlying normal distribution\n",
    "k = 2  # Threshold value\n",
    "\n",
    "# Calculate P(X > k)\n",
    "prob_greater = 1 - stats.lognorm.cdf(k, s=sigma, scale=np.exp(mu))\n",
    "\n",
    "print(f\"P(X > {k}) = {prob_greater}\")\n",
    "\n",
    "\n",
    "# Calculate mean and variance\n",
    "mean, var = stats.lognorm.stats(s=sigma, scale=np.exp(mu), moments='mv')\n",
    "\n",
    "print(f\"Mean: {mean}\")\n",
    "print(f\"Variance: {var}\")"
   ]
  },
  {
   "cell_type": "markdown",
   "metadata": {},
   "source": [
    "### log-normal: P(X < k)"
   ]
  },
  {
   "cell_type": "code",
   "execution_count": 29,
   "metadata": {},
   "outputs": [
    {
     "name": "stdout",
     "output_type": "stream",
     "text": [
      "P(X < 2) = 0.7801170895122241\n",
      "Mean: 1.7010573018484005\n",
      "Variance: 0.18662090474626997\n"
     ]
    }
   ],
   "source": [
    "import scipy.stats as stats\n",
    "import numpy as np\n",
    "\n",
    "# Parameters\n",
    "mu = 0.5  # Mean of the underlying normal distribution\n",
    "sigma = 0.25  # Standard deviation of the underlying normal distribution\n",
    "k = 2  # Threshold value\n",
    "\n",
    "# Calculate P(X < k)\n",
    "prob_less = stats.lognorm.cdf(k, s=sigma, scale=np.exp(mu))\n",
    "\n",
    "print(f\"P(X < {k}) = {prob_less}\")\n",
    "\n",
    "# Calculate mean and variance\n",
    "mean, var = stats.lognorm.stats(s=sigma, scale=np.exp(mu), moments='mv')\n",
    "\n",
    "print(f\"Mean: {mean}\")\n",
    "print(f\"Variance: {var}\")\n"
   ]
  },
  {
   "cell_type": "markdown",
   "metadata": {},
   "source": [
    "# Confidence Intervals"
   ]
  },
  {
   "cell_type": "markdown",
   "metadata": {},
   "source": [
    "## One Sample"
   ]
  },
  {
   "cell_type": "markdown",
   "metadata": {},
   "source": [
    "### Normally distributed:"
   ]
  },
  {
   "cell_type": "markdown",
   "metadata": {},
   "source": [
    "#### With Z-distribution:\n",
    "**Use the Z-distribution (standard normal) when:**\n",
    "   - The population standard deviation ($\\sigma$) is **known**.\n",
    "   - The sample size is large ($n > 30$), even if $\\sigma$ is unknown (due to the Central Limit Theorem)."
   ]
  },
  {
   "cell_type": "code",
   "execution_count": 67,
   "metadata": {},
   "outputs": [
    {
     "name": "stdout",
     "output_type": "stream",
     "text": [
      "CI: [30.54;38.78]\n"
     ]
    }
   ],
   "source": [
    "# Define inputs\n",
    "sample_mean = 34.66  # Example: mean duration\n",
    "sample_std = 10.12    # Example: standard deviation\n",
    "sample_size = 40   # Example: sample size\n",
    "confidence_level = 0.99\n",
    "\n",
    "# Calculate Z-score for 99% confidence\n",
    "z_score = stats.norm.ppf(1 - (1 - confidence_level) / 2)\n",
    "\n",
    "# Compute margin of error\n",
    "margin_of_error = z_score * (sample_std / np.sqrt(sample_size))\n",
    "\n",
    "# Calculate confidence interval\n",
    "lower_bound = sample_mean - margin_of_error\n",
    "upper_bound = sample_mean + margin_of_error\n",
    "\n",
    "\n",
    "print(f\"CI: [{lower_bound:.2f};{upper_bound:.2f}]\")"
   ]
  },
  {
   "cell_type": "markdown",
   "metadata": {},
   "source": [
    "#### With t-Distribution\n",
    "**Use the $t$-distribution when:**\n",
    "   - The population standard deviation ($\\sigma$) is **unknown**.\n",
    "   - The sample size is small ($n \\leq 30$), making the normal approximation unreliable."
   ]
  },
  {
   "cell_type": "code",
   "execution_count": 3,
   "metadata": {},
   "outputs": [
    {
     "name": "stdout",
     "output_type": "stream",
     "text": [
      "CI: [30.33, 38.99]\n"
     ]
    }
   ],
   "source": [
    "# Inputs\n",
    "mean = 34.66  # Sample mean\n",
    "s = 10.12  # Sample standard deviation\n",
    "n = 40  # Sample size\n",
    "confidence_level = 0.99\n",
    "\n",
    "# Degrees of freedom\n",
    "df = n - 1\n",
    "\n",
    "# t-score\n",
    "t_score = stats.t.ppf(1 - (1 - confidence_level) / 2, df)\n",
    "\n",
    "# Confidence interval\n",
    "margin_of_error = t_score * (s / np.sqrt(n))\n",
    "lower = mean - margin_of_error\n",
    "upper = mean + margin_of_error\n",
    "\n",
    "print(f\"CI: [{lower:.2f}, {upper:.2f}]\")"
   ]
  },
  {
   "cell_type": "markdown",
   "metadata": {},
   "source": [
    "## Two Sample"
   ]
  },
  {
   "cell_type": "markdown",
   "metadata": {},
   "source": [
    "\n",
    "\n",
    "\n",
    "\n"
   ]
  },
  {
   "cell_type": "markdown",
   "metadata": {},
   "source": [
    "# Hypothesis Testing"
   ]
  },
  {
   "cell_type": "markdown",
   "metadata": {},
   "source": [
    "## P-value"
   ]
  },
  {
   "cell_type": "markdown",
   "metadata": {},
   "source": [
    "### Two Tailed"
   ]
  },
  {
   "cell_type": "code",
   "execution_count": 10,
   "metadata": {},
   "outputs": [
    {
     "name": "stdout",
     "output_type": "stream",
     "text": [
      "Test Statistic (t): 2.9123\n",
      "P-Value: 0.0059\n",
      "Reject the null hypothesis (H0).\n"
     ]
    }
   ],
   "source": [
    "# Inputs\n",
    "sample_mean = 34.66      # Replace with the sample mean (x̄)\n",
    "pop_mean = 30         # Population mean under H0 (μ)\n",
    "sample_std = 10.12        # Sample standard deviation (s)\n",
    "sample_size = 40      # Sample size (n)\n",
    "\n",
    "alpha = 0.05          # Significance level\n",
    "\n",
    "# Calculate the test statistic\n",
    "t_statistic = (sample_mean - pop_mean) / (sample_std / np.sqrt(sample_size))\n",
    "\n",
    "# Degrees of freedom\n",
    "df = sample_size - 1\n",
    "\n",
    "# Calculate the two-tailed p-value\n",
    "p_value = 2 * stats.t.sf(np.abs(t_statistic), df)\n",
    "\n",
    "# Output\n",
    "print(f\"Test Statistic (t): {t_statistic:.4f}\")\n",
    "print(f\"P-Value: {p_value:.4f}\")\n",
    "\n",
    "# Decision\n",
    "if p_value < alpha:\n",
    "    print(\"Reject the null hypothesis (H0).\")\n",
    "else:\n",
    "    print(\"Fail to reject the null hypothesis (H0).\")"
   ]
  },
  {
   "cell_type": "markdown",
   "metadata": {},
   "source": [
    "### One Tailed\n"
   ]
  },
  {
   "cell_type": "code",
   "execution_count": 9,
   "metadata": {},
   "outputs": [
    {
     "name": "stdout",
     "output_type": "stream",
     "text": [
      "Test Statistic (t): 2.5000\n",
      "P-Value: 0.0098\n",
      "Reject the null hypothesis (H0).\n"
     ]
    }
   ],
   "source": [
    "# Inputs\n",
    "sample_mean = 32      # Replace with the sample mean (x̄)\n",
    "pop_mean = 30         # Population mean under H0 (μ)\n",
    "sample_std = 4        # Sample standard deviation (s)\n",
    "sample_size = 25      # Sample size (n)\n",
    "alpha = 0.05          # Significance level\n",
    "\n",
    "# Calculate the test statistic\n",
    "t_statistic = (sample_mean - pop_mean) / (sample_std / np.sqrt(sample_size))\n",
    "\n",
    "# Degrees of freedom\n",
    "df = sample_size - 1\n",
    "\n",
    "# One-tailed p-value\n",
    "# Uncomment the appropriate line for the test direction\n",
    "p_value = stats.t.sf(t_statistic, df)  # Right-tailed test (H_a: μ > μ0)\n",
    "# p_value = stats.t.cdf(t_statistic, df)  # Left-tailed test (H_a: μ < μ0)\n",
    "\n",
    "# Output\n",
    "print(f\"Test Statistic (t): {t_statistic:.4f}\")\n",
    "print(f\"P-Value: {p_value:.4f}\")\n",
    "\n",
    "# Decision\n",
    "if p_value < alpha:\n",
    "    print(\"Reject the null hypothesis (H0).\")\n",
    "else:\n",
    "    print(\"Fail to reject the null hypothesis (H0).\")"
   ]
  },
  {
   "cell_type": "markdown",
   "metadata": {},
   "source": [
    "# Linear Regression"
   ]
  },
  {
   "cell_type": "markdown",
   "metadata": {},
   "source": [
    "## Simple Linear Regression"
   ]
  },
  {
   "cell_type": "code",
   "execution_count": null,
   "metadata": {},
   "outputs": [],
   "source": [
    "x = np.array([168, 161, 167, 179, 184, 166, 198, 187, 191, 179])             # height data\n",
    "y = np.array([65.5, 58.3, 68.1, 85.7, 80.5, 63.4, 102.6, 91.4, 86.7, 78.9])  # weight data\n",
    "\n",
    "student = pd.DataFrame({'x': x, 'y': y})  # \"import pandas as pd\"\n",
    "print(student)\n",
    "\n",
    "fitStudents = smf.ols(formula = 'y ~ x', data=student).fit()\n",
    "\n"
   ]
  },
  {
   "cell_type": "markdown",
   "metadata": {},
   "source": [
    "### Model Creation"
   ]
  },
  {
   "cell_type": "code",
   "execution_count": null,
   "metadata": {},
   "outputs": [],
   "source": [
    "# data x\n",
    "x = np.array([1.46,1.66,1.87,2.11,2.37,2.67,2.94,3.31,3.72,4.24])\n",
    "\n",
    "# data to be predicted\n",
    "y = np.array([1.76,1.96,2.24,2.46,2.80,3.11,3.46,3.95,4.42,4.99])\n",
    "\n",
    "fit = smf.ols('y ~ x', data=pd.DataFrame({'x':x, 'y':y})).fit()\n",
    "print(fit.summary(slim=True))\n"
   ]
  },
  {
   "cell_type": "markdown",
   "metadata": {},
   "source": [
    "### Confidence Interval:"
   ]
  },
  {
   "cell_type": "code",
   "execution_count": null,
   "metadata": {},
   "outputs": [],
   "source": [
    "conf_interval_99 = fit.conf_int(alpha=0.01)\n",
    "conf_interval_95 = fit.conf_int(alpha=0.05)\n",
    "conf_interval_90 = fit.conf_int(alpha=0.10)\n",
    "\n",
    "# Format and display results\n",
    "print(\"Confidence Intervals for Regression Coefficients beta_0 and beta_1\\n\")\n",
    "print(\"99% Confidence Interval:\")\n",
    "print(conf_interval_99.to_string(header=[\"Lower Bound\", \"Upper Bound\"], index=[\"Intercept (b0)\", \"Slope (b1)\"]))\n",
    "print(\"\\n95% Confidence Interval:\")\n",
    "print(conf_interval_95.to_string(header=[\"Lower Bound\", \"Upper Bound\"], index=[\"Intercept (b0)\", \"Slope (b1)\"]))\n",
    "print(\"\\n90% Confidence Interval:\")\n",
    "print(conf_interval_90.to_string(header=[\"Lower Bound\", \"Upper Bound\"], index=[\"Intercept (b0)\", \"Slope (b1)\"]))"
   ]
  },
  {
   "cell_type": "markdown",
   "metadata": {},
   "source": [
    "### Prediction Interval:"
   ]
  },
  {
   "cell_type": "code",
   "execution_count": null,
   "metadata": {},
   "outputs": [],
   "source": [
    "x = 2.5\n",
    "\n",
    "new_x = pd.DataFrame({'x': [x]})\n",
    "\n",
    "# Get 99% prediction intervals for these values\n",
    "prediction_99 = fit.get_prediction(new_x).summary_frame(alpha=0.01)\n",
    "# Get 95% prediction interval\n",
    "prediction_95 = fit.get_prediction(new_x).summary_frame(alpha=0.05)\n",
    "# Get 90% prediction interval\n",
    "prediction_90 = fit.get_prediction(new_x).summary_frame(alpha=0.10)\n",
    "\n",
    "\n",
    "# Print each prediction interval\n",
    "print(\"99% Prediction Interval for x = 2.5:\")\n",
    "print(prediction_99[['mean', 'obs_ci_lower', 'obs_ci_upper']])\n",
    "\n",
    "print(\"\\n95% Prediction Interval for x = 2.5:\")\n",
    "print(prediction_95[['mean', 'obs_ci_lower', 'obs_ci_upper']])\n",
    "\n",
    "print(\"\\n90% Prediction Interval for x = 2.5:\")\n",
    "print(prediction_90[['mean', 'obs_ci_lower', 'obs_ci_upper']])\n"
   ]
  },
  {
   "cell_type": "markdown",
   "metadata": {},
   "source": [
    "### Residuals:"
   ]
  },
  {
   "cell_type": "code",
   "execution_count": null,
   "metadata": {},
   "outputs": [],
   "source": [
    "residuals = fit.resid\n",
    "\n",
    "print(\"Residuals:\")\n",
    "print(residuals)\n",
    "\n",
    "print(np.sqrt(fit.mse_resid))\n",
    "\n",
    "fig, axs = plt.subplots(1, 2, figsize=(15, 6))\n",
    "\n",
    "# Plot residuals against the fitted values\n",
    "axs[0].scatter(fit.fittedvalues, residuals, color='blue', s=100, alpha=0.7, edgecolor='k', label='Residuals')\n",
    "axs[0].axhline(0, color='red', linestyle='--', linewidth=2, label='Zero Line')\n",
    "axs[0].set_xlabel(\"Fitted Values\", fontsize=14)\n",
    "axs[0].set_ylabel(\"Residuals\", fontsize=14)\n",
    "axs[0].set_title(\"Residual Plot\", fontsize=16)\n",
    "axs[0].legend()\n",
    "axs[0].grid()\n",
    "\n",
    "# Q-Q plot\n",
    "stats.probplot(residuals, dist=\"norm\", plot=axs[1])\n",
    "axs[1].set_title(\"Q-Q Plot of Residuals\", fontsize=16)\n",
    "axs[1].set_xlabel(\"Theoretical Quantiles\", fontsize=14)\n",
    "axs[1].set_ylabel(\"Sample Quantiles\", fontsize=14)\n",
    "axs[1].grid()\n",
    "\n",
    "# Adjust layout\n",
    "plt.tight_layout()\n",
    "plt.show()\n",
    "plt.show()"
   ]
  },
  {
   "cell_type": "markdown",
   "metadata": {},
   "source": [
    "# Statistical analysis"
   ]
  },
  {
   "cell_type": "markdown",
   "metadata": {},
   "source": [
    "| **Analysis Type**              | **Use When**                                                                                  | **Example**                                                                                     |\n",
    "|---------------------------------|----------------------------------------------------------------------------------------------|-------------------------------------------------------------------------------------------------|\n",
    "| **Multiple Linear Regression**  | Continuous response, multiple predictors, or goal is prediction                              | Modeling how diet and exercise influence weight.                                               |\n",
    "| **Independence Test (r × c)**   | Testing association between two categorical variables                                         | Testing if feed type and health status are related.                                             |\n",
    "| **Paired t-Test**               | Comparing means in **dependent** samples (pre-post measures or matched pairs)                | Comparing weight before and after treatment for the same chickens.                             |\n",
    "| **One-way ANOVA**               | Comparing means in **three or more independent groups**                                       | Testing if mean weight change differs across three feed types.                                  |\n",
    "| **t-Test**                      | Comparing means in **two independent groups**                                                | Testing if mean weight change differs between Feed A and Feed B.   "
   ]
  },
  {
   "cell_type": "markdown",
   "metadata": {},
   "source": []
  },
  {
   "cell_type": "code",
   "execution_count": null,
   "metadata": {},
   "outputs": [
    {
     "name": "stdout",
     "output_type": "stream",
     "text": [
      "1.999384976933878\n"
     ]
    }
   ],
   "source": [
    "mean = 34.66\n",
    "std = 10.12\n",
    "\n",
    "\n"
   ]
  }
 ],
 "metadata": {
  "kernelspec": {
   "display_name": "base",
   "language": "python",
   "name": "python3"
  },
  "language_info": {
   "codemirror_mode": {
    "name": "ipython",
    "version": 3
   },
   "file_extension": ".py",
   "mimetype": "text/x-python",
   "name": "python",
   "nbconvert_exporter": "python",
   "pygments_lexer": "ipython3",
   "version": "3.11.7"
  }
 },
 "nbformat": 4,
 "nbformat_minor": 2
}
