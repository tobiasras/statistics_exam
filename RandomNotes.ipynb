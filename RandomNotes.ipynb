{
 "cells": [
  {
   "metadata": {},
   "cell_type": "code",
   "outputs": [],
   "execution_count": null,
   "source": [
    "import numpy as np\n",
    "import matplotlib.pyplot as plt\n",
    "import pandas as pd\n",
    "import scipy.stats as stats\n",
    "import statsmodels.formula.api as smf\n",
    "import statsmodels.api as sm"
   ],
   "id": "2b9e29e3835a5dd"
  },
  {
   "metadata": {},
   "cell_type": "markdown",
   "source": [
    "### chi square freedom degrees\n",
    "chi square test of independence degrees of freedom is calculated as follows "
   ],
   "id": "518698c4c315bbf1"
  },
  {
   "metadata": {},
   "cell_type": "markdown",
   "source": [
    "\n",
    "    df=(number of rows-1) * (number of columns-1)\n"
   ],
   "id": "f9dcaaecbdaca532"
  },
  {
   "metadata": {},
   "cell_type": "markdown",
   "source": [
    "### standard error types \n",
    "there are two different kinds of standard error \n",
    "\n",
    "one for a proportion\n",
    "$$\n",
    "    SE = \\sqrt{\\frac{\\hat{p}(1 - \\hat{p})}{n}}\n",
    "$$\n",
    "where p is sampel proportion\n",
    "$$\n",
    "    ( \\hat{p} = \\frac{\\text{Number of Successes}}{\\text{Sample Size}} ).\n",
    "$$\n",
    "and n is sample size\n",
    "\n",
    "\n",
    "\n",
    "\n",
    "AND ONE FOR A MEAN\n",
    "$$\n",
    "    SE = \\frac{s}{\\sqrt{n}}\n",
    "$$\n",
    "where s is std\n"
   ],
   "id": "c8897d117c5c3e59"
  },
  {
   "metadata": {},
   "cell_type": "markdown",
   "source": [
    "### confidence interval steps\n",
    "\n",
    "1 : identify sample statistic (proportion or mean)\n",
    "\n",
    "2 : calculate standard error\n",
    " \n",
    "3 : determine critical value\n",
    " \n",
    "The critical value ( z  for large samples or  t  for smaller samples) corresponds to the desired confidence level:\n",
    "\t•\tFor a 95% confidence level,  z^* \\approx 1.96  (normal distribution).\n",
    "\t•\tUse  t  for small samples or unknown population variance.\n",
    "a sample is small when it is 30>n so anything 30 or above is a large sample \n",
    "\n",
    "4 : calculate margin of error = critical value * standard error\n",
    "\n",
    "5 : construct confidence interval. sample statistic +- margin of error "
   ],
   "id": "8dc8f82ccf926fe7"
  }
 ],
 "metadata": {
  "kernelspec": {
   "display_name": "Python 3",
   "language": "python",
   "name": "python3"
  },
  "language_info": {
   "codemirror_mode": {
    "name": "ipython",
    "version": 2
   },
   "file_extension": ".py",
   "mimetype": "text/x-python",
   "name": "python",
   "nbconvert_exporter": "python",
   "pygments_lexer": "ipython2",
   "version": "2.7.6"
  }
 },
 "nbformat": 4,
 "nbformat_minor": 5
}
