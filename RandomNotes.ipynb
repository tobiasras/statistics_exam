{
 "cells": [
  {
   "metadata": {
    "ExecuteTime": {
     "end_time": "2024-12-05T13:43:40.980734Z",
     "start_time": "2024-12-05T13:43:40.978503Z"
    }
   },
   "cell_type": "code",
   "source": [
    "import numpy as np\n",
    "import matplotlib.pyplot as plt\n",
    "import pandas as pd\n",
    "import scipy.stats as stats\n",
    "import statsmodels.formula.api as smf\n",
    "import statsmodels.api as sm\n"
   ],
   "id": "2b9e29e3835a5dd",
   "outputs": [],
   "execution_count": 6
  },
  {
   "metadata": {},
   "cell_type": "markdown",
   "source": [
    "### chi square freedom degrees\n",
    "chi square test of independence degrees of freedom is calculated as follows "
   ],
   "id": "518698c4c315bbf1"
  },
  {
   "metadata": {},
   "cell_type": "markdown",
   "source": [
    "\n",
    "    df=(number of rows-1) * (number of columns-1)\n"
   ],
   "id": "f9dcaaecbdaca532"
  },
  {
   "metadata": {},
   "cell_type": "markdown",
   "source": [
    "### standard error types \n",
    "there are two different kinds of standard error \n",
    "\n",
    "one for a proportion\n",
    "$$\n",
    "    SE = \\sqrt{\\frac{\\hat{p}(1 - \\hat{p})}{n}}\n",
    "$$\n",
    "where p is sampel proportion\n",
    "$$\n",
    "    ( \\hat{p} = \\frac{\\text{Number of Successes}}{\\text{Sample Size}} ).\n",
    "$$\n",
    "and n is sample size\n",
    "\n",
    "\n",
    "\n",
    "\n",
    "AND ONE FOR A MEAN\n",
    "$$\n",
    "    SE = \\frac{s}{\\sqrt{n}}\n",
    "$$\n",
    "where s is std\n",
    "(this is also used for paired t test so fx difference in two means that are not independant\n",
    "\n",
    "AND FOR TWO MEANS\n",
    "$$\n",
    "  \\text{SE}(\\bar{x}_1 - \\bar{x}_2) = \\sqrt{\\frac{s_1^2}{n_1} + \\frac{s_2^2}{n_2}}  \n",
    "$$\n",
    "(two means that are independant)\n",
    "\n",
    " ### confidence interval steps\n",
    "\n",
    "1 : identify sample statistic (proportion or mean)\n",
    "\n",
    "2 : calculate standard error\n",
    " \n",
    "3 : determine critical value\n",
    " \n",
    "The critical value ( z  for large samples or  t  for smaller samples) corresponds to the desired confidence level:\n",
    "\t•\tFor a 95% confidence level,  z^* \\approx 1.96  (normal distribution).\n",
    "\t•\tUse  t  for small samples or unknown population variance.\n",
    "a sample is small when it is 30>n so anything 30 or above is a large sample \n",
    "\n",
    "4 : calculate margin of error = critical value * standard error\n",
    "\n",
    "5 : construct confidence interval. sample statistic +- margin of error "
   ],
   "id": "8dc8f82ccf926fe7"
  },
  {
   "metadata": {},
   "cell_type": "code",
   "outputs": [],
   "execution_count": null,
   "source": [
    "#difference in standard deviation\n",
    "\n",
    "# Sample data\n",
    "s1, s2 = 4, 3  # Standard deviations\n",
    "n1, n2 = 25, 36  # Sample sizes\n",
    "\n",
    "# Standard deviation of the difference\n",
    "std_diff = np.sqrt((s1**2 / n1) + (s2**2 / n2))\n",
    "print(f\"Standard deviation of the difference: {std_diff:.3f}\")"
   ],
   "id": "1833a87107488c30"
  },
  {
   "metadata": {},
   "cell_type": "markdown",
   "source": [
    "$$\n",
    "  \\text{SE}(\\bar{x}_1 - \\bar{x}_2) = \\sqrt{\\frac{s_1^2}{n_1} + \\frac{s_2^2}{n_2}}  \n",
    "$$"
   ],
   "id": "cc7f1ae7ea203e8c"
  },
  {
   "metadata": {},
   "cell_type": "markdown",
   "source": [
    "compare two sample means and get a test statistic\n",
    "\n",
    "$$\n",
    "    t = \\frac{(\\bar{x}_1 - \\bar{x}2) - \\text{Null Difference}}{\\text{SE}{\\text{difference}}}\n",
    "$$\n",
    "where null difference is the difference hypothesised under the null hypothesis "
   ],
   "id": "79cdae1660230d27"
  },
  {
   "metadata": {
    "ExecuteTime": {
     "end_time": "2024-12-04T09:02:17.996312Z",
     "start_time": "2024-12-04T09:02:17.450568Z"
    }
   },
   "cell_type": "code",
   "source": [
    "\n",
    "from scipy.stats import ttest_ind_from_stats\n",
    "# perform welch ttest and calculate degrees of freedom using welch formula \n",
    "\n",
    "# Data\n",
    "mean1, mean2 = 1250, 1300  # Means\n",
    "std1, std2 = 54.24, 28.54  # Standard deviations\n",
    "n1, n2 = 25000, 15000  # Sample sizes\n",
    "\n",
    "# Perform Welch's t-test\n",
    "t_stat, p_value, df = ttest_ind_from_stats(mean1, std1, n1, mean2, std2, n2, equal_var=False)\n",
    "\n",
    "# Manual calculation of degrees of freedom (Welch-Satterthwaite formula)\n",
    "numerator = (std1**2 / n1 + std2**2 / n2)**2\n",
    "denominator = ((std1**4 / (n1**2 * (n1 - 1))) + (std2**4 / (n2**2 * (n2 - 1))))\n",
    "df = numerator / denominator\n",
    "\n",
    "print(f\"T-statistic: {t_stat:.4f}\")\n",
    "print(f\"P-value: {p_value:.4f}\")\n",
    "print(f\"Degrees of Freedom: {df:.2f}\")"
   ],
   "id": "29b600d1e166cc1f",
   "outputs": [
    {
     "ename": "NameError",
     "evalue": "name 'stats' is not defined",
     "output_type": "error",
     "traceback": [
      "\u001B[0;31m---------------------------------------------------------------------------\u001B[0m",
      "\u001B[0;31mNameError\u001B[0m                                 Traceback (most recent call last)",
      "Cell \u001B[0;32mIn[1], line 10\u001B[0m\n\u001B[1;32m      7\u001B[0m n1, n2 \u001B[38;5;241m=\u001B[39m \u001B[38;5;241m25000\u001B[39m, \u001B[38;5;241m15000\u001B[39m  \u001B[38;5;66;03m# Sample sizes\u001B[39;00m\n\u001B[1;32m      9\u001B[0m \u001B[38;5;66;03m# Perform Welch's t-test\u001B[39;00m\n\u001B[0;32m---> 10\u001B[0m _, p_value, df \u001B[38;5;241m=\u001B[39m \u001B[43mstats\u001B[49m\u001B[38;5;241m.\u001B[39mttest_ind_from_stats(mean1, std1, n1, mean2, std2, n2, equal_var\u001B[38;5;241m=\u001B[39m\u001B[38;5;28;01mFalse\u001B[39;00m)\n\u001B[1;32m     11\u001B[0m \u001B[38;5;66;03m# the _, is the because the function also returns the t-statistic and we dont need it\u001B[39;00m\n\u001B[1;32m     13\u001B[0m \u001B[38;5;28mprint\u001B[39m(\u001B[38;5;124mf\u001B[39m\u001B[38;5;124m\"\u001B[39m\u001B[38;5;124mDegrees of Freedom: \u001B[39m\u001B[38;5;132;01m{\u001B[39;00mdf\u001B[38;5;132;01m:\u001B[39;00m\u001B[38;5;124m.2f\u001B[39m\u001B[38;5;132;01m}\u001B[39;00m\u001B[38;5;124m\"\u001B[39m)\n",
      "\u001B[0;31mNameError\u001B[0m: name 'stats' is not defined"
     ]
    }
   ],
   "execution_count": 1
  },
  {
   "metadata": {},
   "cell_type": "markdown",
   "source": [
    "# Anova\n",
    "    ANOVA (Analysis of Variance) is a statistical method used to compare the means of three or more groups to determine if at least one of the group means is significantly different from the others. It assesses the variation between group means relative to the variation within groups.\n",
    "    \n",
    "Types of ANOVA\n",
    "\n",
    "\t1.\tOne-Way ANOVA:\n",
    "\t•\tUsed when comparing the means of three or more independent groups.\n",
    "\t•\tExample: Comparing test scores of students from three different schools.\n",
    "\t2.\tTwo-Way ANOVA:\n",
    "\t•\tUsed when studying the effect of two independent factors on a dependent variable.\n",
    "\t•\tExample: Studying the effect of teaching method and study time on test scores.\n",
    "\t\n",
    "Key Concepts\n",
    "\n",
    "\t1.\tNull Hypothesis (H_0):\n",
    "\t•\tAll group means are equal.\n",
    "\t•\tH_0: \\mu_1 = \\mu_2 = \\mu_3 = \\dots\n",
    "\t2.\tAlternative Hypothesis (H_a):\n",
    "\t•\tAt least one group mean is different.\n",
    "\t3.\tF-Statistic:\n",
    "\t•\tMeasures the ratio of variation between groups to variation within groups.\n",
    "\t4.\tp-Value:\n",
    "\t•\tIndicates whether the differences between group means are statistically significant.\n",
    "\t\n",
    "sum of squares\n",
    "   \n",
    "    explains the variation cause by each variable and the Residuals (unexplained variation)\n",
    "    \n",
    "F-statistic\n",
    "\n",
    "    This tests whether the variation explained by the factor is significantly greater than the residual variation.\n",
    "    \n",
    "significance codes for p-value \n",
    "    \n",
    "    E = for p-val is greater than 0.05, the effect is not significant.\n",
    "    F = for p-val is less than 0.05, the effect is significant.\n",
    "    "
   ],
   "id": "4d373a87cbb50ba"
  },
  {
   "metadata": {},
   "cell_type": "code",
   "outputs": [],
   "execution_count": null,
   "source": [
    "#one way\n",
    "\n",
    "# Data: Exam scores for three teaching methods\n",
    "group1 = [85, 86, 88, 75, 78]\n",
    "group2 = [82, 79, 84, 80, 81]\n",
    "group3 = [89, 92, 94, 91, 88]\n",
    "\n",
    "# Perform One-Way ANOVA\n",
    "f_stat, p_value = stats.f_oneway(group1, group2, group3)\n",
    "\n",
    "print(f\"F-Statistic: {f_stat:.4f}\")\n",
    "print(f\"P-Value: {p_value:.4f}\")\n",
    "\n",
    "# Interpretation\n",
    "if p_value < 0.05:\n",
    "    print(\"At least one group mean is significantly different.\")\n",
    "else:\n",
    "    print(\"No significant difference between group means.\")"
   ],
   "id": "f2ce02836b206efc"
  },
  {
   "metadata": {},
   "cell_type": "code",
   "outputs": [],
   "execution_count": null,
   "source": [
    "#two way \n",
    "\n",
    "# Sample Data\n",
    "data = pd.DataFrame({\n",
    "    'Score': [85, 86, 88, 75, 78, 82, 79, 84, 80, 81, 89, 92, 94, 91, 88],\n",
    "    'Gender': ['Male', 'Male', 'Male', 'Female', 'Female',\n",
    "               'Male', 'Male', 'Female', 'Female', 'Female',\n",
    "               'Male', 'Male', 'Female', 'Female', 'Female'],\n",
    "    'Study_Hours': ['Low', 'Low', 'Medium', 'High', 'High',\n",
    "                    'Low', 'Low', 'Medium', 'High', 'High',\n",
    "                    'Low', 'Low', 'Medium', 'High', 'High']\n",
    "})\n",
    "\n",
    "# Perform Two-Way ANOVA\n",
    "model = smf.ols('Score ~ C(Gender) + C(Study_Hours) + C(Gender):C(Study_Hours)', data=data).fit()\n",
    "anova_table = sm.stats.anova_lm(model, typ=2)\n",
    "\n",
    "print(anova_table)"
   ],
   "id": "6829fe63e8e54cbe"
  },
  {
   "metadata": {},
   "cell_type": "markdown",
   "source": "",
   "id": "acb4196151d49322"
  },
  {
   "metadata": {},
   "cell_type": "markdown",
   "source": [
    "how to find total sum of squares when you have mean squares and f-value\n",
    "    "
   ],
   "id": "b86fa46cbcd1e2ea"
  },
  {
   "metadata": {
    "ExecuteTime": {
     "end_time": "2024-12-05T13:43:51.391580Z",
     "start_time": "2024-12-05T13:43:51.377720Z"
    }
   },
   "cell_type": "code",
   "source": [
    "# Step 1: Create the data\n",
    "data = pd.DataFrame({\n",
    "    \"Strength\": [92.0, 131.0, 74.1, 90.4,  # Day 1\n",
    "                 111.6, 103.5, 52.8, 95.2,  # Day 2\n",
    "                 98.4, 100.0, 82.5, 87.6,  # Day 3\n",
    "                 87.7, 84.7, 94.7, 63.2,  # Day 4\n",
    "                 134.9, 134.5, 107.3, 119.5],  # Day 5\n",
    "    \"Supplier\": [\"A\", \"B\", \"C\", \"D\"] * 5,\n",
    "    \"Day\": [\"Day 1\"] * 4 + [\"Day 2\"] * 4 + [\"Day 3\"] * 4 + [\"Day 4\"] * 4 + [\"Day 5\"] * 4\n",
    "})\n",
    "\n",
    "# Step 2: Fit the two-way ANOVA model\n",
    "model = smf.ols(\"Strength ~ C(Supplier) + C(Day)\", data=data).fit()\n",
    "\n",
    "# Step 3: Perform the ANOVA\n",
    "anova_table = sm.stats.anova_lm(model, typ=2)  # typ=2 for main effects only\n",
    "\n",
    "# Display the ANOVA table\n",
    "print(anova_table)"
   ],
   "id": "dc03cd3a5563b53e",
   "outputs": [
    {
     "name": "stdout",
     "output_type": "stream",
     "text": [
      "               sum_sq    df         F    PR(>F)\n",
      "C(Supplier)  2508.756   3.0  3.869560  0.037935\n",
      "C(Day)       4007.692   4.0  4.636164  0.017071\n",
      "Residual     2593.324  12.0       NaN       NaN\n"
     ]
    }
   ],
   "execution_count": 7
  },
  {
   "metadata": {
    "ExecuteTime": {
     "end_time": "2024-12-05T13:50:32.695281Z",
     "start_time": "2024-12-05T13:50:32.691988Z"
    }
   },
   "cell_type": "code",
   "source": [
    "#this is an example of how to derive missing values from given values in a two way anova (possible exam task) given data is from the table above (in the exam task the sum_sq and p-value was missing and we had the mean_sq intead)\n",
    "\n",
    "#mean squares and f-values\n",
    "MS1=1001.92\n",
    "fVal1=4.6362\n",
    "MS2 = 836.25\n",
    "fVal2 =3.8696\n",
    "#mean sum of squared errors (residuals) here you can use either 1 or 2 as long as both values are from the one you choose\n",
    "MSE=MS1/fVal1\n",
    "#now we have all the mean squares so to get the sum times them by the freedom degrees\n",
    "MS1Sum = MS1*4\n",
    "MS2Sum = MS2*3\n",
    "MSESum = MSE*12\n",
    "SumMS = MS1Sum+MS2Sum+MSESum\n",
    "print(SumMS)"
   ],
   "id": "5d5dbc0cd5c1a35f",
   "outputs": [
    {
     "name": "stdout",
     "output_type": "stream",
     "text": [
      "9109.72623398473\n"
     ]
    }
   ],
   "execution_count": 9
  },
  {
   "metadata": {
    "ExecuteTime": {
     "end_time": "2024-12-05T13:33:53.894430Z",
     "start_time": "2024-12-05T13:33:53.890516Z"
    }
   },
   "cell_type": "code",
   "source": [
    "print(12*1001.92/4.6362 + 3*836.25 + 4*1001.92)\n",
    "print(836.25/3.8696)"
   ],
   "id": "6a869ba729a30b7b",
   "outputs": [
    {
     "name": "stdout",
     "output_type": "stream",
     "text": [
      "9109.72623398473\n",
      "216.1076080215009\n"
     ]
    }
   ],
   "execution_count": 2
  }
 ],
 "metadata": {
  "kernelspec": {
   "display_name": "Python 3",
   "language": "python",
   "name": "python3"
  },
  "language_info": {
   "codemirror_mode": {
    "name": "ipython",
    "version": 2
   },
   "file_extension": ".py",
   "mimetype": "text/x-python",
   "name": "python",
   "nbconvert_exporter": "python",
   "pygments_lexer": "ipython2",
   "version": "2.7.6"
  }
 },
 "nbformat": 4,
 "nbformat_minor": 5
}
