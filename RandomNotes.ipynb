{
 "cells": [
  {
   "metadata": {
    "ExecuteTime": {
     "end_time": "2024-12-14T19:32:39.096676Z",
     "start_time": "2024-12-14T19:32:38.177249Z"
    }
   },
   "cell_type": "code",
   "source": [
    "import numpy as np\n",
    "import matplotlib.pyplot as plt\n",
    "import pandas as pd\n",
    "import scipy.stats as stats\n",
    "import statsmodels.formula.api as smf\n",
    "import statsmodels.api as sm\n"
   ],
   "id": "2b9e29e3835a5dd",
   "outputs": [],
   "execution_count": 4
  },
  {
   "metadata": {},
   "cell_type": "markdown",
   "source": [
    "### chi square freedom degrees\n",
    "chi square test of independence degrees of freedom is calculated as follows "
   ],
   "id": "518698c4c315bbf1"
  },
  {
   "metadata": {},
   "cell_type": "markdown",
   "source": [
    "\n",
    "    df=(number of rows-1) * (number of columns-1)\n"
   ],
   "id": "f9dcaaecbdaca532"
  },
  {
   "metadata": {},
   "cell_type": "code",
   "outputs": [],
   "execution_count": null,
   "source": "",
   "id": "f438c8bf03bc86f6"
  },
  {
   "metadata": {},
   "cell_type": "markdown",
   "source": [
    "### standard error types \n",
    "there are two different kinds of standard error \n",
    "\n",
    "one for a proportion\n",
    "$$\n",
    "    SE = \\sqrt{\\frac{\\hat{p}(1 - \\hat{p})}{n}}\n",
    "$$\n",
    "where p is sampel proportion\n",
    "$$\n",
    "    ( \\hat{p} = \\frac{\\text{Number of Successes}}{\\text{Sample Size}} ).\n",
    "$$\n",
    "and n is sample size\n",
    "\n",
    "\n",
    "\n",
    "\n",
    "AND ONE FOR A MEAN\n",
    "$$\n",
    "    SE = \\frac{s}{\\sqrt{n}}\n",
    "$$\n",
    "where s is std\n",
    "(this is also used for paired t test so fx difference in two means that are not independant\n",
    "\n",
    "AND FOR TWO MEANS\n",
    "$$\n",
    "  \\text{SE}(\\bar{x}_1 - \\bar{x}_2) = \\sqrt{\\frac{s_1^2}{n_1} + \\frac{s_2^2}{n_2}}  \n",
    "$$\n",
    "(two means that are independant)\n",
    "\n",
    " ### confidence interval steps\n",
    "\n",
    "1 : identify sample statistic (proportion or mean)\n",
    "\n",
    "2 : calculate standard error\n",
    " \n",
    "3 : determine critical value\n",
    " \n",
    "The critical value ( z  for large samples or  t  for smaller samples) corresponds to the desired confidence level:\n",
    "\t•\tFor a 95% confidence level,  z^* \\approx 1.96  (normal distribution).\n",
    "\t•\tUse  t  for small samples or unknown population variance.\n",
    "a sample is small when it is 30>n so anything 30 or above is a large sample \n",
    "\n",
    "4 : calculate margin of error = critical value * standard error\n",
    "\n",
    "5 : construct confidence interval. sample statistic +- margin of error \n",
    "\n",
    "### p-value\n",
    "if the p-value is less than the significanse level we reject the hypothesis\n",
    "\n",
    "because this means the chance of getting the data we have if the hypothesis is TRUE is less than the chance that the significance level represents and therefore there is little evidence that it is true "
   ],
   "id": "8dc8f82ccf926fe7"
  },
  {
   "metadata": {},
   "cell_type": "code",
   "outputs": [],
   "execution_count": null,
   "source": [
    "#difference in standard deviation\n",
    "\n",
    "# Sample data\n",
    "s1, s2 = 4, 3  # Standard deviations\n",
    "n1, n2 = 25, 36  # Sample sizes\n",
    "\n",
    "# Standard deviation of the difference\n",
    "std_diff = np.sqrt((s1**2 / n1) + (s2**2 / n2))\n",
    "print(f\"Standard deviation of the difference: {std_diff:.3f}\")"
   ],
   "id": "1833a87107488c30"
  },
  {
   "metadata": {},
   "cell_type": "markdown",
   "source": [
    "$$\n",
    "  \\text{SE}(\\bar{x}_1 - \\bar{x}_2) = \\sqrt{\\frac{s_1^2}{n_1} + \\frac{s_2^2}{n_2}}  \n",
    "$$"
   ],
   "id": "cc7f1ae7ea203e8c"
  },
  {
   "metadata": {},
   "cell_type": "markdown",
   "source": [
    "compare two sample means and get a test statistic\n",
    "\n",
    "$$\n",
    "    t = \\frac{(\\bar{x}_1 - \\bar{x}2) - \\text{Null Difference}}{\\text{SE}{\\text{difference}}}\n",
    "$$\n",
    "where null difference is the difference hypothesised under the null hypothesis "
   ],
   "id": "79cdae1660230d27"
  },
  {
   "metadata": {
    "ExecuteTime": {
     "end_time": "2024-12-12T16:01:44.182928Z",
     "start_time": "2024-12-12T16:01:43.767208Z"
    }
   },
   "cell_type": "code",
   "source": [
    "\n",
    "#from scipy.stats import ttest_ind_from_stats\n",
    "## perform welch ttest and calculate degrees of freedom using welch formula \n",
    "#\n",
    "## Data\n",
    "#mean1, mean2 = 1250, 1300  # Means\n",
    "#std1, std2 = 54.24, 28.54  # Standard deviations\n",
    "#n1, n2 = 25000, 15000  # Sample sizes\n",
    "#\n",
    "## Perform Welch's t-test\n",
    "#t_stat, p_value, df = ttest_ind_from_stats(mean1, std1, n1, mean2, std2, n2, equal_var=False)\n",
    "#\n",
    "## Manual calculation of degrees of freedom (Welch-Satterthwaite formula)\n",
    "#numerator = (std1**2 / n1 + std2**2 / n2)**2\n",
    "#denominator = ((std1**4 / (n1**2 * (n1 - 1))) + (std2**4 / (n2**2 * (n2 - 1))))\n",
    "#df = numerator / denominator\n",
    "#\n",
    "#print(f\"T-statistic: {t_stat:.4f}\")\n",
    "#print(f\"P-value: {p_value:.4f}\")\n",
    "#print(f\"Degrees of Freedom: {df:.2f}\")"
   ],
   "id": "29b600d1e166cc1f",
   "outputs": [
    {
     "ename": "ValueError",
     "evalue": "not enough values to unpack (expected 3, got 2)",
     "output_type": "error",
     "traceback": [
      "\u001B[0;31m---------------------------------------------------------------------------\u001B[0m",
      "\u001B[0;31mValueError\u001B[0m                                Traceback (most recent call last)",
      "Cell \u001B[0;32mIn[1], line 10\u001B[0m\n\u001B[1;32m      7\u001B[0m n1, n2 \u001B[38;5;241m=\u001B[39m \u001B[38;5;241m25000\u001B[39m, \u001B[38;5;241m15000\u001B[39m  \u001B[38;5;66;03m# Sample sizes\u001B[39;00m\n\u001B[1;32m      9\u001B[0m \u001B[38;5;66;03m# Perform Welch's t-test\u001B[39;00m\n\u001B[0;32m---> 10\u001B[0m t_stat, p_value, df \u001B[38;5;241m=\u001B[39m ttest_ind_from_stats(mean1, std1, n1, mean2, std2, n2, equal_var\u001B[38;5;241m=\u001B[39m\u001B[38;5;28;01mFalse\u001B[39;00m)\n\u001B[1;32m     12\u001B[0m \u001B[38;5;66;03m# Manual calculation of degrees of freedom (Welch-Satterthwaite formula)\u001B[39;00m\n\u001B[1;32m     13\u001B[0m numerator \u001B[38;5;241m=\u001B[39m (std1\u001B[38;5;241m*\u001B[39m\u001B[38;5;241m*\u001B[39m\u001B[38;5;241m2\u001B[39m \u001B[38;5;241m/\u001B[39m n1 \u001B[38;5;241m+\u001B[39m std2\u001B[38;5;241m*\u001B[39m\u001B[38;5;241m*\u001B[39m\u001B[38;5;241m2\u001B[39m \u001B[38;5;241m/\u001B[39m n2)\u001B[38;5;241m*\u001B[39m\u001B[38;5;241m*\u001B[39m\u001B[38;5;241m2\u001B[39m\n",
      "\u001B[0;31mValueError\u001B[0m: not enough values to unpack (expected 3, got 2)"
     ]
    }
   ],
   "execution_count": 1
  },
  {
   "metadata": {},
   "cell_type": "markdown",
   "source": [
    "## Anova\n",
    "    ANOVA (Analysis of Variance) is a statistical method used to compare the means of three or more groups to determine if at least one of the group means is significantly different from the others. It assesses the variation between group means relative to the variation within groups.\n",
    "    \n",
    "Types of ANOVA\n",
    "\n",
    "\t1.\tOne-Way ANOVA:\n",
    "\t•\tUsed when comparing the means of three or more independent groups.\n",
    "\t•\tExample: Comparing test scores of students from three different schools.\n",
    "\t2.\tTwo-Way ANOVA:\n",
    "\t•\tUsed when studying the effect of two independent factors on a dependent variable.\n",
    "\t•\tExample: Studying the effect of teaching method and study time on test scores.\n",
    "\t\n",
    "Key Concepts\n",
    "\n",
    "\t1.\tNull Hypothesis (H_0):\n",
    "\t•\tAll group means are equal.\n",
    "\t•\tH_0: \\mu_1 = \\mu_2 = \\mu_3 = \\dots\n",
    "\t2.\tAlternative Hypothesis (H_a):\n",
    "\t•\tAt least one group mean is different.\n",
    "\t3.\tF-Statistic:\n",
    "\t•\tMeasures the ratio of variation between groups to variation within groups.\n",
    "\t4.\tp-Value:\n",
    "\t•\tIndicates whether the differences between group means are statistically significant.\n",
    "\t\n",
    "sum of squares\n",
    "   \n",
    "    explains the variation cause by each variable and the Residuals (unexplained variation)\n",
    "    \n",
    "F-statistic\n",
    "\n",
    "    This tests whether the variation explained by the factor is significantly greater than the residual variation.\n",
    "    \n",
    "significance codes for p-value \n",
    "    \n",
    "    E = for p-val is greater than 0.05, the effect is not significant.\n",
    "    F = for p-val is less than 0.05, the effect is significant.\n",
    "    "
   ],
   "id": "4d373a87cbb50ba"
  },
  {
   "metadata": {},
   "cell_type": "code",
   "outputs": [],
   "execution_count": null,
   "source": [
    "#one way\n",
    "\n",
    "# Data: Exam scores for three teaching methods\n",
    "group1 = [85, 86, 88, 75, 78]\n",
    "group2 = [82, 79, 84, 80, 81]\n",
    "group3 = [89, 92, 94, 91, 88]\n",
    "\n",
    "# Perform One-Way ANOVA\n",
    "f_stat, p_value = stats.f_oneway(group1, group2, group3)\n",
    "\n",
    "print(f\"F-Statistic: {f_stat:.4f}\")\n",
    "print(f\"P-Value: {p_value:.4f}\")\n",
    "\n",
    "# Interpretation\n",
    "if p_value < 0.05:\n",
    "    print(\"At least one group mean is significantly different.\")\n",
    "else:\n",
    "    print(\"No significant difference between group means.\")\n",
    "    \n",
    "    \n",
    "# GENERATE TABLE\n",
    "\n",
    "import pandas as pd\n",
    "import statsmodels.api as sm\n",
    "import statsmodels.formula.api as smf\n",
    "\n",
    "# Example Data\n",
    "data = {\n",
    "    'Group': ['1', 'A', 'A', 'B', 'B', 'B', 'C', 'C', 'C'],\n",
    "    'Value': [4, 5, 6, 5, 6, 7, 6, 7, 8]\n",
    "}\n",
    "df = pd.DataFrame(data)\n",
    "\n",
    "# Fit a one-way ANOVA model\n",
    "model = smf.ols('Value ~ C(Group)', data=df).fit()\n",
    "anova_table = sm.stats.anova_lm(model, typ=2)  # typ=2 for sum of squares\n",
    "print(anova_table)"
   ],
   "id": "f2ce02836b206efc"
  },
  {
   "metadata": {
    "ExecuteTime": {
     "end_time": "2024-12-14T19:32:46.394996Z",
     "start_time": "2024-12-14T19:32:46.362770Z"
    }
   },
   "cell_type": "code",
   "source": [
    "#two way \n",
    "\n",
    "# Sample Data\n",
    "data = pd.DataFrame({\n",
    "    'Score': [85, 86, 88, 75, 78, 82, 79, 84, 80, 81, 89, 92, 94, 91, 88],\n",
    "    'Gender': ['Male', 'Male', 'Male', 'Female', 'Female',\n",
    "               'Male', 'Male', 'Female', 'Female', 'Female',\n",
    "               'Male', 'Male', 'Female', 'Female', 'Female'],\n",
    "    'Study_Hours': ['Low', 'Low', 'Medium', 'High', 'High',\n",
    "                    'Low', 'Low', 'Medium', 'High', 'High',\n",
    "                    'Low', 'Low', 'Medium', 'High', 'High']\n",
    "})\n",
    "\n",
    "# Perform Two-Way ANOVA\n",
    "model = smf.ols('Score ~ C(Gender) + C(Study_Hours) + C(Gender):C(Study_Hours)', data=data).fit()\n",
    "anova_table = sm.stats.anova_lm(model, typ=2)\n",
    "\n",
    "print(anova_table)"
   ],
   "id": "6829fe63e8e54cbe",
   "outputs": [
    {
     "name": "stdout",
     "output_type": "stream",
     "text": [
      "                                sum_sq    df             F    PR(>F)\n",
      "C(Gender)                 8.251070e-15   1.0  2.620648e-16  1.000000\n",
      "C(Study_Hours)            1.121333e+02   2.0  1.780751e+00  0.209023\n",
      "C(Gender):C(Study_Hours)  3.400000e+01   2.0  5.399423e-01  0.597468\n",
      "Residual                  3.463333e+02  11.0           NaN       NaN\n"
     ]
    },
    {
     "name": "stderr",
     "output_type": "stream",
     "text": [
      "/opt/homebrew/Caskroom/miniconda/base/envs/statistics_exam_prep/lib/python3.12/site-packages/statsmodels/base/model.py:1894: ValueWarning: covariance of constraints does not have full rank. The number of constraints is 2, but rank is 1\n",
      "  warnings.warn('covariance of constraints does not have full '\n"
     ]
    }
   ],
   "execution_count": 5
  },
  {
   "metadata": {},
   "cell_type": "markdown",
   "source": "",
   "id": "acb4196151d49322"
  },
  {
   "metadata": {},
   "cell_type": "markdown",
   "source": [
    "how to find total sum of squares when you have mean squares and f-value\n",
    "    "
   ],
   "id": "b86fa46cbcd1e2ea"
  },
  {
   "metadata": {
    "ExecuteTime": {
     "end_time": "2024-12-05T13:43:51.391580Z",
     "start_time": "2024-12-05T13:43:51.377720Z"
    }
   },
   "cell_type": "code",
   "source": [
    "# Step 1: Create the data\n",
    "data = pd.DataFrame({\n",
    "    \"Strength\": [92.0, 131.0, 74.1, 90.4,  # Day 1\n",
    "                 111.6, 103.5, 52.8, 95.2,  # Day 2\n",
    "                 98.4, 100.0, 82.5, 87.6,  # Day 3\n",
    "                 87.7, 84.7, 94.7, 63.2,  # Day 4\n",
    "                 134.9, 134.5, 107.3, 119.5],  # Day 5\n",
    "    \"Supplier\": [\"A\", \"B\", \"C\", \"D\"] * 5,\n",
    "    \"Day\": [\"Day 1\"] * 4 + [\"Day 2\"] * 4 + [\"Day 3\"] * 4 + [\"Day 4\"] * 4 + [\"Day 5\"] * 4\n",
    "})\n",
    "\n",
    "# Step 2: Fit the two-way ANOVA model\n",
    "model = smf.ols(\"Strength ~ C(Supplier) + C(Day)\", data=data).fit()\n",
    "\n",
    "# Step 3: Perform the ANOVA\n",
    "anova_table = sm.stats.anova_lm(model, typ=2)  # typ=2 for main effects only\n",
    "\n",
    "# Display the ANOVA table\n",
    "print(anova_table)"
   ],
   "id": "dc03cd3a5563b53e",
   "outputs": [
    {
     "name": "stdout",
     "output_type": "stream",
     "text": [
      "               sum_sq    df         F    PR(>F)\n",
      "C(Supplier)  2508.756   3.0  3.869560  0.037935\n",
      "C(Day)       4007.692   4.0  4.636164  0.017071\n",
      "Residual     2593.324  12.0       NaN       NaN\n"
     ]
    }
   ],
   "execution_count": 7
  },
  {
   "metadata": {
    "ExecuteTime": {
     "end_time": "2024-12-05T13:50:32.695281Z",
     "start_time": "2024-12-05T13:50:32.691988Z"
    }
   },
   "cell_type": "code",
   "source": [
    "#this is an example of how to derive missing values from given values in a two way anova (possible exam task) given data is from the table above (in the exam task the sum_sq and p-value was missing and we had the mean_sq intead)\n",
    "\n",
    "#mean squares and f-values\n",
    "MS1=1001.92\n",
    "fVal1=4.6362\n",
    "MS2 = 836.25\n",
    "fVal2 =3.8696\n",
    "#mean sum of squared errors (residuals) here you can use either 1 or 2 as long as both values are from the one you choose\n",
    "MSE=MS1/fVal1\n",
    "#now we have all the mean squares so to get the sum times them by the freedom degrees\n",
    "MS1Sum = MS1*4\n",
    "MS2Sum = MS2*3\n",
    "MSESum = MSE*12\n",
    "SumMS = MS1Sum+MS2Sum+MSESum\n",
    "print(SumMS)"
   ],
   "id": "5d5dbc0cd5c1a35f",
   "outputs": [
    {
     "name": "stdout",
     "output_type": "stream",
     "text": [
      "9109.72623398473\n"
     ]
    }
   ],
   "execution_count": 9
  },
  {
   "metadata": {
    "ExecuteTime": {
     "end_time": "2024-12-05T13:33:53.894430Z",
     "start_time": "2024-12-05T13:33:53.890516Z"
    }
   },
   "cell_type": "code",
   "source": [
    "print(12*1001.92/4.6362 + 3*836.25 + 4*1001.92)\n",
    "print(836.25/3.8696)"
   ],
   "id": "6a869ba729a30b7b",
   "outputs": [
    {
     "name": "stdout",
     "output_type": "stream",
     "text": [
      "9109.72623398473\n",
      "216.1076080215009\n"
     ]
    }
   ],
   "execution_count": 2
  },
  {
   "metadata": {},
   "cell_type": "code",
   "outputs": [],
   "execution_count": null,
   "source": [
    "#chat example of simulation template\n",
    "# Simulation Framework\n",
    "def simulate_outcomes(data, n_simulations=1000, stat_func=np.mean, distribution=\"normal\", **kwargs):\n",
    "    \"\"\"\n",
    "    General-purpose function to simulate outcomes.\n",
    "    \n",
    "    Parameters:\n",
    "    - data: array-like, observed data\n",
    "    - n_simulations: int, number of bootstrap or simulated samples\n",
    "    - stat_func: callable, function to compute the statistic of interest (e.g., np.mean, np.median)\n",
    "    - distribution: str, \"normal\", \"bootstrap\", or custom distribution name\n",
    "    - kwargs: additional parameters for the specified distribution\n",
    "    \n",
    "    Returns:\n",
    "    - simulations: array of computed statistics from simulated samples\n",
    "    - ci: tuple, confidence interval (2.5th, 97.5th percentiles)\n",
    "    \"\"\"\n",
    "    np.random.seed(kwargs.get(\"random_seed\", None))  # Set seed for reproducibility\n",
    "\n",
    "    if distribution == \"normal\":\n",
    "        # Fit a normal distribution and simulate\n",
    "        mean = np.mean(data)\n",
    "        std = np.std(data, ddof=1)\n",
    "        samples = np.random.normal(loc=mean, scale=std, size=(n_simulations, len(data)))\n",
    "    elif distribution == \"bootstrap\":\n",
    "        # Generate bootstrap samples directly from the data\n",
    "        samples = np.random.choice(data, size=(n_simulations, len(data)), replace=True)\n",
    "    elif distribution in kwargs:\n",
    "        # Simulate from a custom distribution if specified (e.g., Poisson, Binomial)\n",
    "        samples = kwargs[distribution]\n",
    "    else:\n",
    "        raise ValueError(\"Unsupported distribution. Use 'normal', 'bootstrap', or specify a distribution.\")\n",
    "\n",
    "    # Calculate the statistic of interest for each sample\n",
    "    stat_results = np.apply_along_axis(stat_func, axis=1, arr=samples)\n",
    "\n",
    "    # Calculate the confidence interval\n",
    "    ci_lower, ci_upper = np.percentile(stat_results, [2.5, 97.5])\n",
    "    return stat_results, (ci_lower, ci_upper)\n",
    "\n",
    "\n",
    "# Example Usage\n",
    " if __name__ == \"__main__\":\n",
    "    # Example dataset\n",
    "    data = np.array([162, 172, 178, 154, 173, 174, 166, 166, 164, 167, 163, 165, 170, 177])\n",
    "\n",
    "    # Parametric Bootstrap\n",
    "    simulated_means, ci_mean = simulate_outcomes(data, n_simulations=1000, stat_func=np.mean, distribution=\"normal\")\n",
    "    print(f\"Parametric Bootstrap 95% CI for the Mean: {ci_mean}\")\n",
    "\n",
    "    # Non-parametric Bootstrap (Resampling)\n",
    "    simulated_medians, ci_median = simulate_outcomes(data, n_simulations=1000, stat_func=np.median, distribution=\"bootstrap\")\n",
    "    print(f\"Non-parametric Bootstrap 95% CI for the Median: {ci_median}\")\n",
    "\n",
    "    # Tailoring: Adding Poisson Distribution Example\n",
    "    lambda_val = np.mean(data)  # Example: Poisson rate parameter\n",
    "    poisson_samples = np.random.poisson(lam=lambda_val, size=(1000, len(data)))\n",
    "    simulated_poisson, ci_poisson = simulate_outcomes(data, n_simulations=1000, stat_func=np.sum, distribution=\"custom\", custom=poisson_samples)\n",
    "    print(f\"Poisson Simulation 95% CI for the Sum: {ci_poisson}\")"
   ],
   "id": "bd47c40087fad843"
  },
  {
   "metadata": {},
   "cell_type": "markdown",
   "source": "ok\n",
   "id": "848bf20369c2ea5a"
  },
  {
   "metadata": {},
   "cell_type": "markdown",
   "source": "## how to identify what hypothesis test to use\n",
   "id": "d989bbb773273c55"
  },
  {
   "metadata": {},
   "cell_type": "markdown",
   "source": [
    "1. Determine the Type of Data\n",
    "\t•\tCategorical (e.g., gender, yes/no, color): Use tests for proportions or associations.\n",
    "\t•\tNumerical (e.g., height, weight, temperature): Use tests for means or variances.\n",
    "\t\n",
    "2. Understand the Goal\n",
    "\t•\tComparing Means:\n",
    "\t•\tOne sample: Is the mean different from a specific value? → One-sample t-test.\n",
    "\t•\tTwo samples:\n",
    "\t•\tIndependent groups: Are the means of two groups different? → Two-sample t-test or Welch’s t-test.\n",
    "\t•\tPaired samples: Are paired observations (before/after) different? → Paired t-test.\n",
    "\t•\tMore than two groups: Use ANOVA (e.g., one-way or two-way).\n",
    "\t•\tComparing Proportions:\n",
    "\t•\tSingle group: Is the proportion different from a value? → Binomial test.\n",
    "\t•\tTwo groups: Are proportions different? → Chi-square test or Fisher’s exact test.\n",
    "\t•\tAssessing Relationships:\n",
    "\t•\tBetween numerical variables: Use Correlation test or Regression analysis.\n",
    "\t•\tBetween categorical variables: Use Chi-square test for independence.\n",
    "\t•\tVariability:\n",
    "\t•\tCompare variances: Use F-test or Levene’s test.\n",
    "\t\n",
    "3. Examine Assumptions\n",
    "\t•\tNormality: Is the data normally distributed?\n",
    "\t•\tIf normal: Use parametric tests (e.g., t-test, ANOVA).\n",
    "\t•\tIf not normal: Use non-parametric tests (e.g., Mann-Whitney U, Wilcoxon signed-rank).\n",
    "\t•\tEquality of Variances: Are variances between groups similar?\n",
    "\t•\tIf yes: Use standard tests.\n",
    "\t•\tIf no: Use alternatives like Welch’s t-test.\n",
    "\t\n",
    "4. Consider the Sample Size\n",
    "\t•\tSmall sample size: Consider tests that don’t rely heavily on normality assumptions (e.g., non-parametric tests).\n",
    "\t•\tLarge sample size: The Central Limit Theorem allows parametric tests even if data isn’t perfectly normal.\n",
    "\n",
    "5. Look at the Question Format\n",
    "\t•\tOne-tailed vs. Two-tailed:\n",
    "\t•\tOne-tailed: If the hypothesis asks for a direction (e.g., greater than, less than).\n",
    "\t•\tTwo-tailed: If the hypothesis asks for a difference without a specific direction.\n",
    "\t\n",
    "6. Special Cases\n",
    "\t•\tTime-to-event data: Use survival analysis (e.g., log-rank test).\n",
    "\t•\tCount data (rare events): Use Poisson test.\n",
    "\t•\tDependent categorical data: Use McNemar’s test.\n",
    "\t\n",
    "### anova specific one or two\n",
    "1. One-Way ANOVA\n",
    "\n",
    "Use one-way ANOVA when:\n",
    "\t•\tPurpose: You want to compare the means of a dependent variable across one independent variable (factor) with multiple levels (categories).\n",
    "\t•\tIndependent Variable: Only one factor with two or more levels (e.g., treatment groups, regions, diets).\n",
    "\t•\tDependent Variable: A continuous numerical variable (e.g., weight, height, test scores).\n",
    "\n",
    "Example:\n",
    "\t•\tResearch Question: Do three different diets (Diet A, Diet B, Diet C) affect weight loss?\n",
    "\t•\tIndependent Variable: Diet (3 levels: A, B, C).\n",
    "\t•\tDependent Variable: Weight loss (in kg).\n",
    "\t\n",
    "2. Two-Way ANOVA\n",
    "\n",
    "Use two-way ANOVA when:\n",
    "\t•\tPurpose: You want to analyze the effects of two independent variables (factors) on a dependent variable.\n",
    "\t•\tIndependent Variables: Two factors, each with two or more levels (e.g., diet type and exercise type).\n",
    "\t•\tInteraction Effects: You want to check if the interaction between the two factors influences the dependent variable.\n",
    "\n",
    "Example:\n",
    "\t•\tResearch Question: Do diet type (A, B) and exercise type (cardio, strength) influence weight loss, and does the interaction between diet and exercise matter?\n",
    "\t•\tIndependent Variables:\n",
    "\t•\tDiet (2 levels: A, B).\n",
    "\t•\tExercise (2 levels: cardio, strength).\n",
    "\t•\tDependent Variable: Weight loss (in kg)."
   ],
   "id": "b67dc99be80c45f5"
  },
  {
   "metadata": {},
   "cell_type": "markdown",
   "source": [
    "## a little poisson for the confused \n",
    "Antag, at ingen opkald i øjeblikket er i venteposition. Hvis agenten bruger 5 minutter på at\n",
    "gennemføre det aktuelle opkald, hvad er sandsynligheden for, at to eller flere opkald venter?\n",
    "\n",
    "The problem asks for the probability that two or more calls are waiting \n",
    "\n",
    "$$\n",
    "    X \\geq 2\n",
    "$$\n",
    "\n",
    "Poisson CDF Options\n",
    "\n",
    "\t1.\tP(X > k): This represents the probability of getting equal or more than k events.\n",
    "\t\n",
    "\t2.\tP(X < k): This represents the probability of getting equal or fewer than k events."
   ],
   "id": "6f866a94a046b5db"
  },
  {
   "metadata": {},
   "cell_type": "markdown",
   "source": "### what test to use",
   "id": "5f3071f87734e337"
  },
  {
   "metadata": {
    "ExecuteTime": {
     "end_time": "2024-12-14T16:04:16.458709Z",
     "start_time": "2024-12-14T16:00:57.713111Z"
    }
   },
   "cell_type": "code",
   "source": [
    "def identify_statistical_test():\n",
    "    print(\"Welcome to the Statistical Concept Identifier!\")\n",
    "\n",
    "    # Step 1: Identify data type\n",
    "    data_type = input(\"Is the data type (1) Categorical or (2) Numerical? (Enter 1 or 2): \")\n",
    "    if data_type == '1':\n",
    "        # Categorical data\n",
    "        print(\"\\nCategorical Data\")\n",
    "        test_goal = input(\"Are you (1) comparing proportions or (2) checking for independence? (Enter 1 or 2): \")\n",
    "\n",
    "        if test_goal == '1':\n",
    "            print(\"\\n**Suggested Concept**: Z-Test for Proportions or Chi-Square Goodness-of-Fit Test\")\n",
    "        elif test_goal == '2':\n",
    "            print(\"\\n**Suggested Concept**: Chi-Square Test for Independence\")\n",
    "        else:\n",
    "            print(\"Invalid input. Please try again.\")\n",
    "\n",
    "    elif data_type == '2':\n",
    "        # Numerical data\n",
    "        print(\"\\nNumerical Data\")\n",
    "        num_groups = int(input(\"How many groups are you working with? (Enter 1, 2, or more): \"))\n",
    "\n",
    "        if num_groups == 1:\n",
    "            test_goal = input(\"Are you (1) testing the mean or (2) estimating a confidence interval? (Enter 1 or 2): \")\n",
    "            if test_goal == '1':\n",
    "                print(\"\\n**Suggested Concept**: One-Sample T-Test\")\n",
    "            elif test_goal == '2':\n",
    "                print(\"\\n**Suggested Concept**: Confidence Interval for the Mean\")\n",
    "            else:\n",
    "                print(\"Invalid input. Please try again.\")\n",
    "\n",
    "        elif num_groups == 2:\n",
    "            pairing = input(\"Are the groups (1) Independent or (2) Paired? (Enter 1 or 2): \")\n",
    "            if pairing == '1':\n",
    "                print(\"\\n**Suggested Concept**: Two-Sample T-Test\")\n",
    "            elif pairing == '2':\n",
    "                print(\"\\n**Suggested Concept**: Paired T-Test\")\n",
    "            else:\n",
    "                print(\"Invalid input. Please try again.\")\n",
    "\n",
    "        else:\n",
    "            print(\"\\nMultiple Groups Detected\")\n",
    "            print(\"\\n**Suggested Concept**: One-Way ANOVA or Two-Way ANOVA (if you have multiple factors)\")\n",
    "    else:\n",
    "        print(\"Invalid input. Please try again.\")\n",
    "\n",
    "# Run the system\n",
    "identify_statistical_test()"
   ],
   "id": "99f9966dbc44fdd5",
   "outputs": [
    {
     "name": "stdout",
     "output_type": "stream",
     "text": [
      "Welcome to the Statistical Concept Identifier!\n",
      "\n",
      "Numerical Data\n",
      "\n",
      "**Suggested Concept**: Paired T-Test\n"
     ]
    }
   ],
   "execution_count": 2
  },
  {
   "metadata": {},
   "cell_type": "markdown",
   "source": "## variance ",
   "id": "26299ababdf49dcd"
  },
  {
   "metadata": {},
   "cell_type": "markdown",
   "source": "### population ",
   "id": "bc8993d3e5992ab6"
  },
  {
   "metadata": {},
   "cell_type": "code",
   "outputs": [],
   "execution_count": null,
   "source": [
    "import numpy as np\n",
    "\n",
    "data = [2, 4, 6, 8, 10]\n",
    "population_variance = np.var(data)  # By default, np.var calculates population variance\n",
    "print(f\"Population Variance: {population_variance}\")"
   ],
   "id": "a37490141cb1c993"
  },
  {
   "metadata": {},
   "cell_type": "markdown",
   "source": "### sample",
   "id": "cea9a61f5171eb80"
  },
  {
   "metadata": {},
   "cell_type": "code",
   "outputs": [],
   "execution_count": null,
   "source": [
    "# sample variance\n",
    "sample_variance = np.var(data, ddof=1)  # ddof=1 ensures sample variance\n",
    "print(f\"Sample Variance: {sample_variance}\")"
   ],
   "id": "aca9eb34daead40d"
  }
 ],
 "metadata": {
  "kernelspec": {
   "display_name": "Python 3",
   "language": "python",
   "name": "python3"
  },
  "language_info": {
   "codemirror_mode": {
    "name": "ipython",
    "version": 2
   },
   "file_extension": ".py",
   "mimetype": "text/x-python",
   "name": "python",
   "nbconvert_exporter": "python",
   "pygments_lexer": "ipython2",
   "version": "2.7.6"
  }
 },
 "nbformat": 4,
 "nbformat_minor": 5
}
